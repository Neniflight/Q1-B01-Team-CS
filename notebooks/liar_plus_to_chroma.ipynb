{
 "cells": [
  {
   "cell_type": "markdown",
   "metadata": {},
   "source": [
    "# Liar Plus to ChromaDB\n",
    "This notebook is used to translate the liar plus dataset into a vector database. Then, Gemini will use this to base its responses off of true statements from Liar Plus.\n",
    "\n",
    "**Prerequisite**: \n",
    "* Docker (I personally prefer Docker Desktop to see the images and containers)\n",
    "* Python 3.11\n",
    "\n",
    "Additionally, you only need to run this notebook once, as the database will be populated and stay populated when the container gets shut down. Make sure that you **do not** delete the image!"
   ]
  },
  {
   "cell_type": "markdown",
   "metadata": {},
   "source": [
    "Within the terminal, run the following:\n",
    "```bash\n",
    "docker run --rm --name chromadb -v chroma_volume:/chroma/chroma -e IS_PERSISTENT=TRUE -e ANONYMIZED_TELEMETRY=TRUE -p 8000:8000 chromadb/chroma\n",
    "```\n",
    "This will make a docker container on port 8000 with a ChromaDB image.\n",
    "\n",
    "Once you are done running, make sure to shut down the server by doing:\n",
    "```bash\n",
    "docker stop chromadb\n",
    "```"
   ]
  },
  {
   "cell_type": "code",
   "execution_count": null,
   "metadata": {},
   "outputs": [],
   "source": [
    "# to improve, read this https://www.datacamp.com/tutorial/chromadb-tutorial-step-by-step-guide\n",
    "# import packages\n",
    "import pandas as pd\n",
    "import chromadb\n",
    "import requests"
   ]
  },
  {
   "cell_type": "code",
   "execution_count": null,
   "metadata": {},
   "outputs": [],
   "source": [
    "# Create local server for chromadb to connect to\n",
    "chroma_client = chromadb.HttpClient(host='localhost', port=8000)"
   ]
  },
  {
   "cell_type": "code",
   "execution_count": null,
   "metadata": {},
   "outputs": [],
   "source": [
    "# data preprocessing, renaming columns and removing nulls\n",
    "train_data = pd.read_csv(\"../data/train2.tsv\", sep=\"\\t\", header=None).drop(0, axis=1)\n",
    "train_data.columns = ['ID', 'label', 'statement', 'subject', 'speaker', 'speaker_title', 'state', 'party_affliation', 'barely_true_counts', 'false_counts', 'half_true_counts', 'mostly_true_counts', 'pants_on_fire_counts', 'context', 'extracted_justification']\n",
    "train_data = train_data[(train_data['speaker'].notna()) & (train_data['label'].notna())].reset_index(drop=True)\n",
    "train_data.head()"
   ]
  },
  {
   "cell_type": "code",
   "execution_count": null,
   "metadata": {},
   "outputs": [],
   "source": [
    "# Getting or creating a collection named misinformation\n",
    "collection = chroma_client.get_or_create_collection(name=\"Misinformation\")\n",
    "collection_count = collection.count()"
   ]
  },
  {
   "cell_type": "code",
   "execution_count": null,
   "metadata": {},
   "outputs": [],
   "source": [
    "\"\"\"\n",
    "Three different lists need to be inputted into a chromaDB collection, documents, metadatas about the document, and id correlated to a document.\n",
    "This code uses the statement as the document. Label, speaker, party, justification are metadata. ID are assigned as the end of the collection\n",
    "\"\"\"\n",
    "documents = []\n",
    "metadatas = []\n",
    "ids = []\n",
    "for i in range(train_data.shape[0]):\n",
    "    documents.append(train_data.loc[i, 'statement'])\n",
    "    metadatas.append({\"label\": train_data.loc[i, 'label'], \"speaker\": train_data.loc[i, \"speaker\"], \"party_affliation\": train_data.loc[i, \"party_affliation\"], \"justification\": train_data.loc[i, \"extracted_justification\"], })\n",
    "    ids.append(\"id\" + str(collection_count + i))"
   ]
  },
  {
   "cell_type": "code",
   "execution_count": null,
   "metadata": {},
   "outputs": [],
   "source": [
    "# Uploading each document, metadata, and id into the collection\n",
    "collection.add(documents = documents, \n",
    "               metadatas=metadatas, \n",
    "               ids=ids)"
   ]
  },
  {
   "cell_type": "code",
   "execution_count": null,
   "metadata": {},
   "outputs": [],
   "source": [
    "# Test query to ensure it works!\n",
    "results = collection.query(query_texts=[\"Hillary Clinton says Trump is more unhinged, more unstable than in 2016\"], \n",
    "                n_results=2,\n",
    "                where=\n",
    "                {\n",
    "                \"label\": \"true\"\n",
    "                })\n",
    "print(results)"
   ]
  },
  {
   "cell_type": "code",
   "execution_count": null,
   "metadata": {},
   "outputs": [],
   "source": [
    "# More advanced queries that you could do. \n",
    "# collection.query(query_texts=[\"Hillary Clinton says Trump is more unhinged, more unstable than in 2016\"], \n",
    "#                  n_results=2,\n",
    "#                  where=\n",
    "#                  {\n",
    "#                      \"$and\": [\n",
    "#                          {\n",
    "#                              \"speaker\": {\n",
    "#                              \"$eq\": \"hillary-clinton\"\n",
    "#                              } \n",
    "#                          },\n",
    "#                          {\n",
    "#                              \"label\": {\n",
    "#                                  \"$eq\": \"true\"\n",
    "#                              }\n",
    "#                          }\n",
    "#                      ]\n",
    "#                  })"
   ]
  }
 ],
 "metadata": {
  "kernelspec": {
   "display_name": "gemini",
   "language": "python",
   "name": "python3"
  },
  "language_info": {
   "codemirror_mode": {
    "name": "ipython",
    "version": 3
   },
   "file_extension": ".py",
   "mimetype": "text/x-python",
   "name": "python",
   "nbconvert_exporter": "python",
   "pygments_lexer": "ipython3",
   "version": "3.11.9"
  }
 },
 "nbformat": 4,
 "nbformat_minor": 2
}
