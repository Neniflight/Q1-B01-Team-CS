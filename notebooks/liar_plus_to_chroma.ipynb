{
 "cells": [
  {
   "cell_type": "markdown",
   "metadata": {},
   "source": [
    "# Liar Plus to ChromaDB\n",
    "This notebook is used to translate the liar plus dataset into a vector database. Then, Gemini will use this to base its responses off of true statements from Liar Plus.\n",
    "\n",
    "**Prerequisite**: \n",
    "* Docker (I personally prefer Docker Desktop to see the images and containers)\n",
    "* Python 3.11\n",
    "\n",
    "Additionally, you only need to run this notebook once, as the database will be populated and stay populated when the container gets shut down. Make sure that you **do not** delete the image!"
   ]
  },
  {
   "cell_type": "markdown",
   "metadata": {},
   "source": [
    "Within the terminal, run the following:\n",
    "```bash\n",
    "docker run --rm --name chromadb -v chroma_volume:/chroma/chroma -e IS_PERSISTENT=TRUE -e ANONYMIZED_TELEMETRY=TRUE -p 8000:8000 chromadb/chroma\n",
    "```\n",
    "This will make a docker container on port 8000 with a ChromaDB image.\n",
    "\n",
    "Once you are done running, make sure to shut down the server by doing:\n",
    "```bash\n",
    "docker stop chromadb\n",
    "```"
   ]
  },
  {
   "cell_type": "code",
   "execution_count": 1,
   "metadata": {},
   "outputs": [],
   "source": [
    "# to improve, read this https://www.datacamp.com/tutorial/chromadb-tutorial-step-by-step-guide\n",
    "import pandas as pd\n",
    "import chromadb\n",
    "import requests"
   ]
  },
  {
   "cell_type": "code",
   "execution_count": 2,
   "metadata": {},
   "outputs": [],
   "source": [
    "chroma_client = chromadb.HttpClient(host='localhost', port=8000)"
   ]
  },
  {
   "cell_type": "code",
   "execution_count": 3,
   "metadata": {},
   "outputs": [
    {
     "data": {
      "text/html": [
       "<div>\n",
       "<style scoped>\n",
       "    .dataframe tbody tr th:only-of-type {\n",
       "        vertical-align: middle;\n",
       "    }\n",
       "\n",
       "    .dataframe tbody tr th {\n",
       "        vertical-align: top;\n",
       "    }\n",
       "\n",
       "    .dataframe thead th {\n",
       "        text-align: right;\n",
       "    }\n",
       "</style>\n",
       "<table border=\"1\" class=\"dataframe\">\n",
       "  <thead>\n",
       "    <tr style=\"text-align: right;\">\n",
       "      <th></th>\n",
       "      <th>ID</th>\n",
       "      <th>label</th>\n",
       "      <th>statement</th>\n",
       "      <th>subject</th>\n",
       "      <th>speaker</th>\n",
       "      <th>speaker_title</th>\n",
       "      <th>state</th>\n",
       "      <th>party_affliation</th>\n",
       "      <th>barely_true_counts</th>\n",
       "      <th>false_counts</th>\n",
       "      <th>half_true_counts</th>\n",
       "      <th>mostly_true_counts</th>\n",
       "      <th>pants_on_fire_counts</th>\n",
       "      <th>context</th>\n",
       "      <th>extracted_justification</th>\n",
       "    </tr>\n",
       "  </thead>\n",
       "  <tbody>\n",
       "    <tr>\n",
       "      <th>0</th>\n",
       "      <td>2635.json</td>\n",
       "      <td>false</td>\n",
       "      <td>Says the Annies List political group supports ...</td>\n",
       "      <td>abortion</td>\n",
       "      <td>dwayne-bohac</td>\n",
       "      <td>State representative</td>\n",
       "      <td>Texas</td>\n",
       "      <td>republican</td>\n",
       "      <td>0.0</td>\n",
       "      <td>1.0</td>\n",
       "      <td>0.0</td>\n",
       "      <td>0.0</td>\n",
       "      <td>0.0</td>\n",
       "      <td>a mailer</td>\n",
       "      <td>That's a premise that he fails to back up. Ann...</td>\n",
       "    </tr>\n",
       "    <tr>\n",
       "      <th>1</th>\n",
       "      <td>10540.json</td>\n",
       "      <td>half-true</td>\n",
       "      <td>When did the decline of coal start? It started...</td>\n",
       "      <td>energy,history,job-accomplishments</td>\n",
       "      <td>scott-surovell</td>\n",
       "      <td>State delegate</td>\n",
       "      <td>Virginia</td>\n",
       "      <td>democrat</td>\n",
       "      <td>0.0</td>\n",
       "      <td>0.0</td>\n",
       "      <td>1.0</td>\n",
       "      <td>1.0</td>\n",
       "      <td>0.0</td>\n",
       "      <td>a floor speech.</td>\n",
       "      <td>Surovell said the decline of coal \"started whe...</td>\n",
       "    </tr>\n",
       "    <tr>\n",
       "      <th>2</th>\n",
       "      <td>324.json</td>\n",
       "      <td>mostly-true</td>\n",
       "      <td>Hillary Clinton agrees with John McCain \"by vo...</td>\n",
       "      <td>foreign-policy</td>\n",
       "      <td>barack-obama</td>\n",
       "      <td>President</td>\n",
       "      <td>Illinois</td>\n",
       "      <td>democrat</td>\n",
       "      <td>70.0</td>\n",
       "      <td>71.0</td>\n",
       "      <td>160.0</td>\n",
       "      <td>163.0</td>\n",
       "      <td>9.0</td>\n",
       "      <td>Denver</td>\n",
       "      <td>Obama said he would have voted against the ame...</td>\n",
       "    </tr>\n",
       "    <tr>\n",
       "      <th>3</th>\n",
       "      <td>1123.json</td>\n",
       "      <td>false</td>\n",
       "      <td>Health care reform legislation is likely to ma...</td>\n",
       "      <td>health-care</td>\n",
       "      <td>blog-posting</td>\n",
       "      <td>NaN</td>\n",
       "      <td>NaN</td>\n",
       "      <td>none</td>\n",
       "      <td>7.0</td>\n",
       "      <td>19.0</td>\n",
       "      <td>3.0</td>\n",
       "      <td>5.0</td>\n",
       "      <td>44.0</td>\n",
       "      <td>a news release</td>\n",
       "      <td>The release may have a point that Mikulskis co...</td>\n",
       "    </tr>\n",
       "    <tr>\n",
       "      <th>4</th>\n",
       "      <td>9028.json</td>\n",
       "      <td>half-true</td>\n",
       "      <td>The economic turnaround started at the end of ...</td>\n",
       "      <td>economy,jobs</td>\n",
       "      <td>charlie-crist</td>\n",
       "      <td>NaN</td>\n",
       "      <td>Florida</td>\n",
       "      <td>democrat</td>\n",
       "      <td>15.0</td>\n",
       "      <td>9.0</td>\n",
       "      <td>20.0</td>\n",
       "      <td>19.0</td>\n",
       "      <td>2.0</td>\n",
       "      <td>an interview on CNN</td>\n",
       "      <td>Crist said that the economic \"turnaround start...</td>\n",
       "    </tr>\n",
       "  </tbody>\n",
       "</table>\n",
       "</div>"
      ],
      "text/plain": [
       "           ID        label                                          statement  \\\n",
       "0   2635.json        false  Says the Annies List political group supports ...   \n",
       "1  10540.json    half-true  When did the decline of coal start? It started...   \n",
       "2    324.json  mostly-true  Hillary Clinton agrees with John McCain \"by vo...   \n",
       "3   1123.json        false  Health care reform legislation is likely to ma...   \n",
       "4   9028.json    half-true  The economic turnaround started at the end of ...   \n",
       "\n",
       "                              subject         speaker         speaker_title  \\\n",
       "0                            abortion    dwayne-bohac  State representative   \n",
       "1  energy,history,job-accomplishments  scott-surovell        State delegate   \n",
       "2                      foreign-policy    barack-obama             President   \n",
       "3                         health-care    blog-posting                   NaN   \n",
       "4                        economy,jobs   charlie-crist                   NaN   \n",
       "\n",
       "      state party_affliation  barely_true_counts  false_counts  \\\n",
       "0     Texas       republican                 0.0           1.0   \n",
       "1  Virginia         democrat                 0.0           0.0   \n",
       "2  Illinois         democrat                70.0          71.0   \n",
       "3       NaN             none                 7.0          19.0   \n",
       "4   Florida         democrat                15.0           9.0   \n",
       "\n",
       "   half_true_counts  mostly_true_counts  pants_on_fire_counts  \\\n",
       "0               0.0                 0.0                   0.0   \n",
       "1               1.0                 1.0                   0.0   \n",
       "2             160.0               163.0                   9.0   \n",
       "3               3.0                 5.0                  44.0   \n",
       "4              20.0                19.0                   2.0   \n",
       "\n",
       "               context                            extracted_justification  \n",
       "0             a mailer  That's a premise that he fails to back up. Ann...  \n",
       "1      a floor speech.  Surovell said the decline of coal \"started whe...  \n",
       "2               Denver  Obama said he would have voted against the ame...  \n",
       "3       a news release  The release may have a point that Mikulskis co...  \n",
       "4  an interview on CNN  Crist said that the economic \"turnaround start...  "
      ]
     },
     "execution_count": 3,
     "metadata": {},
     "output_type": "execute_result"
    }
   ],
   "source": [
    "# data preprocessing\n",
    "train_data = pd.read_csv(\"../data/train2.tsv\", sep=\"\\t\", header=None).drop(0, axis=1)\n",
    "train_data.columns = ['ID', 'label', 'statement', 'subject', 'speaker', 'speaker_title', 'state', 'party_affliation', 'barely_true_counts', 'false_counts', 'half_true_counts', 'mostly_true_counts', 'pants_on_fire_counts', 'context', 'extracted_justification']\n",
    "train_data = train_data[(train_data['speaker'].notna()) & (train_data['label'].notna())].reset_index(drop=True)\n",
    "train_data.head()"
   ]
  },
  {
   "cell_type": "code",
   "execution_count": 4,
   "metadata": {},
   "outputs": [],
   "source": [
    "documents = []\n",
    "metadatas = []\n",
    "ids = []\n",
    "for i in range(train_data.shape[0]):\n",
    "    documents.append(train_data.loc[i, 'statement'])\n",
    "    metadatas.append({\"label\": train_data.loc[i, 'label'], \"speaker\": train_data.loc[i, \"speaker\"], \"party_affliation\": train_data.loc[i, \"party_affliation\"], \"justification\": train_data.loc[i, \"extracted_justification\"], })\n",
    "    ids.append(\"id\" + str(i))"
   ]
  },
  {
   "cell_type": "code",
   "execution_count": 4,
   "metadata": {},
   "outputs": [],
   "source": [
    "# Uploading each document, metadata, and id into the collection\n",
    "collection = chroma_client.get_or_create_collection(name=\"Misinformation\")"
   ]
  },
  {
   "cell_type": "code",
   "execution_count": 6,
   "metadata": {},
   "outputs": [],
   "source": [
    "collection.add(documents = documents, \n",
    "               metadatas=metadatas, \n",
    "               ids=ids)"
   ]
  },
  {
   "cell_type": "code",
   "execution_count": 5,
   "metadata": {},
   "outputs": [
    {
     "name": "stdout",
     "output_type": "stream",
     "text": [
      "{'ids': [['id4994', 'id9142']], 'distances': [[1.1043428182601929, 1.1649692058563232]], 'embeddings': None, 'metadatas': [[{'justification': 'But that quote is pulled from a story in which Obama expresses a sentiment that now that the war has started, the U. S.  should do the best job it can to steer Iraq toward stability. Obama joined the U. S.  Senate in 2005. He has voted several times to continue funding for the war, saying that troops in Iraq should be funded even if he disagreed with the overall war. (The measure passed 97 to zero.', 'label': 'true', 'party_affliation': 'none', 'speaker': 'glenn-beck'}, {'justification': 'She gave $2,400 this year to Rubio. Crist, in his statement to the St.  Petersburg Times editorial board, is off a little bit by saying 14 of the 20 have asked for a refund. Actually, 11 never gave Crist \"a penny\" for his 2010 Senate campaign. And a 12th person had his money back before sending the letter to Crist.', 'label': 'true', 'party_affliation': 'democrat', 'speaker': 'barack-obama'}]], 'documents': [['Polls showHillary Clinton wins every time with Donald Trump as her opponent.', 'Hillary Clinton \"actually differed with (John McCain) by arguing for exceptions for torture before changing positions.\"']], 'uris': None, 'data': None, 'included': ['distances', 'documents', 'metadatas']}\n"
     ]
    }
   ],
   "source": [
    "# Test query to ensure it works!\n",
    "results = collection.query(query_texts=[\"Hillary Clinton says Trump is more unhinged, more unstable than in 2016\"], \n",
    "                n_results=2,\n",
    "                where=\n",
    "                {\n",
    "                \"label\": \"true\"\n",
    "                })\n",
    "print(results)"
   ]
  },
  {
   "cell_type": "code",
   "execution_count": null,
   "metadata": {},
   "outputs": [],
   "source": [
    "# collection.query(\n",
    "#     query_texts=[\"doc10\", \"thus spake zarathustra\", ...],\n",
    "#     n_results=10,\n",
    "#     where={\"metadata_field\": \"is_equal_to_this\"},\n",
    "#     where_document={\"$contains\":\"search_string\"}\n",
    "# )"
   ]
  },
  {
   "cell_type": "code",
   "execution_count": null,
   "metadata": {},
   "outputs": [],
   "source": [
    "# More advanced queries that you could do. \n",
    "# collection.query(query_texts=[\"Hillary Clinton says Trump is more unhinged, more unstable than in 2016\"], \n",
    "#                  n_results=2,\n",
    "#                  where=\n",
    "#                  {\n",
    "#                      \"$and\": [\n",
    "#                          {\n",
    "#                              \"speaker\": {\n",
    "#                              \"$eq\": \"hillary-clinton\"\n",
    "#                              } \n",
    "#                          },\n",
    "#                          {\n",
    "#                              \"label\": {\n",
    "#                                  \"$eq\": \"true\"\n",
    "#                              }\n",
    "#                          }\n",
    "#                      ]\n",
    "#                  })"
   ]
  }
 ],
 "metadata": {
  "kernelspec": {
   "display_name": "gemini",
   "language": "python",
   "name": "python3"
  },
  "language_info": {
   "codemirror_mode": {
    "name": "ipython",
    "version": 3
   },
   "file_extension": ".py",
   "mimetype": "text/x-python",
   "name": "python",
   "nbconvert_exporter": "python",
   "pygments_lexer": "ipython3",
   "version": "3.11.9"
  }
 },
 "nbformat": 4,
 "nbformat_minor": 2
}
