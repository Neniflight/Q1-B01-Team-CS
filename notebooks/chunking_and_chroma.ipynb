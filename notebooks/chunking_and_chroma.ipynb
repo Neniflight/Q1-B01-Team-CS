{
 "cells": [
  {
   "cell_type": "markdown",
   "metadata": {
    "id": "bK4-l5hsiTIy"
   },
   "source": [
    "Get Chunking"
   ]
  },
  {
   "cell_type": "code",
   "execution_count": null,
   "metadata": {
    "id": "jCdjrBphiBan"
   },
   "outputs": [],
   "source": [
    "import pandas as pd\n",
    "import numpy as np\n",
    "import requests\n",
    "from bs4 import BeautifulSoup\n",
    "import regex as re\n",
    "import pickle"
   ]
  },
  {
   "cell_type": "code",
   "execution_count": null,
   "metadata": {
    "id": "PtF4bewCiL4U"
   },
   "outputs": [],
   "source": [
    "with open('data/chunks.pkl', 'rb') as file:\n",
    "    article_list = pickle.load(file)\n",
    "article_list"
   ]
  },
  {
   "cell_type": "code",
   "execution_count": null,
   "metadata": {
    "colab": {
     "base_uri": "https://localhost:8080/",
     "height": 53
    },
    "id": "ASnbAFtviNjU",
    "outputId": "00f96475-3f74-4565-87b4-f79f91fa7aa5"
   },
   "outputs": [],
   "source": [
    "article_list[0]"
   ]
  },
  {
   "cell_type": "markdown",
   "metadata": {
    "id": "bzolgkY_iQPh"
   },
   "source": [
    "Chroma"
   ]
  },
  {
   "cell_type": "code",
   "execution_count": null,
   "metadata": {
    "colab": {
     "base_uri": "https://localhost:8080/"
    },
    "id": "_zbBJ0kf5hfC",
    "outputId": "967472fc-284c-4e7b-87d5-7baa9874df0c"
   },
   "outputs": [],
   "source": [
    "# Install\n",
    "%pip install chromadb"
   ]
  },
  {
   "cell_type": "code",
   "execution_count": null,
   "metadata": {
    "id": "GtbLY2aO6pzq"
   },
   "outputs": [],
   "source": [
    "# Create A chroma Client\n",
    "import chromadb\n",
    "chroma_client = chromadb.Client()"
   ]
  },
  {
   "cell_type": "code",
   "execution_count": null,
   "metadata": {
    "id": "-R9zduKv64zr"
   },
   "outputs": [],
   "source": [
    "# Create a collection\n",
    "collection = chroma_client.get_or_create_collection(name=\"my_collection\")"
   ]
  },
  {
   "cell_type": "code",
   "execution_count": null,
   "metadata": {
    "id": "awJJC_D1j5PA"
   },
   "outputs": [],
   "source": [
    "# creating id for text doc in collection\n",
    "id = []\n",
    "for i in range(len(article_list)):\n",
    "  id.append(\"id\" + str(i))"
   ]
  },
  {
   "cell_type": "code",
   "execution_count": null,
   "metadata": {
    "colab": {
     "base_uri": "https://localhost:8080/"
    },
    "id": "8iUOM6BC7ThW",
    "outputId": "cfdb33e0-843a-42f6-c5a3-98cb4199435d"
   },
   "outputs": [],
   "source": [
    "# Add text doc to collection\n",
    "collection.upsert(\n",
    "    documents = article_list,\n",
    "    ids = id\n",
    ")"
   ]
  },
  {
   "cell_type": "code",
   "execution_count": null,
   "metadata": {
    "colab": {
     "base_uri": "https://localhost:8080/"
    },
    "id": "_4Q_nm4W7lpL",
    "outputId": "e92f98da-7fa8-4914-d92a-5baf3ded00fc"
   },
   "outputs": [],
   "source": [
    "# query collection\n",
    "results = collection.query(\n",
    "    query_texts = [\"This article’s political stance is democratic.\"], # Chroma will embed this for you\n",
    "    n_results = 5 # how many results to return\n",
    ")\n",
    "print(results)"
   ]
  },
  {
   "cell_type": "code",
   "execution_count": null,
   "metadata": {
    "colab": {
     "base_uri": "https://localhost:8080/"
    },
    "id": "mdNSi-bl95IC",
    "outputId": "622dfe20-70ba-4026-d9c8-4ef5cda08858"
   },
   "outputs": [],
   "source": [
    "# query collection\n",
    "results = collection.query(\n",
    "    query_texts = [\"This article  is using sensational phrases or words\"], # Chroma will embed this for you\n",
    "    n_results = 5 # how many results to return\n",
    ")\n",
    "print(results)"
   ]
  },
  {
   "cell_type": "code",
   "execution_count": null,
   "metadata": {
    "id": "vS6OIuyNkQwk"
   },
   "outputs": [],
   "source": []
  }
 ],
 "metadata": {
  "colab": {
   "provenance": []
  },
  "kernelspec": {
   "display_name": "gemini",
   "language": "python",
   "name": "python3"
  },
  "language_info": {
   "codemirror_mode": {
    "name": "ipython",
    "version": 3
   },
   "file_extension": ".py",
   "mimetype": "text/x-python",
   "name": "python",
   "nbconvert_exporter": "python",
   "pygments_lexer": "ipython3",
   "version": "3.12.7"
  }
 },
 "nbformat": 4,
 "nbformat_minor": 0
}
