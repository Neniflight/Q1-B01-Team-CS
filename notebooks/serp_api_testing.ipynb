{
 "cells": [
  {
   "cell_type": "code",
   "execution_count": 53,
   "metadata": {},
   "outputs": [],
   "source": [
    "from serpapi import GoogleSearch\n",
    "from dotenv import load_dotenv\n",
    "import os\n",
    "from newspaper import Article\n",
    "from newspaper import ArticleException\n",
    "from datetime import datetime, timedelta"
   ]
  },
  {
   "cell_type": "code",
   "execution_count": 25,
   "metadata": {},
   "outputs": [],
   "source": [
    "load_dotenv()\n",
    "api_key = os.getenv(\"SERP_API_KEY\")"
   ]
  },
  {
   "cell_type": "markdown",
   "metadata": {},
   "source": [
    "# Testing news article extraction with Newspaper3k\n"
   ]
  },
  {
   "cell_type": "code",
   "execution_count": 82,
   "metadata": {},
   "outputs": [],
   "source": [
    "url = \"https://www.cbsnews.com/news/trump-tariffs-on-mexico-canada-and-china-on-first-day-in-office/\"\n",
    "article = Article(url)"
   ]
  },
  {
   "cell_type": "code",
   "execution_count": 83,
   "metadata": {},
   "outputs": [],
   "source": [
    "article.download()\n",
    "article.parse()"
   ]
  },
  {
   "cell_type": "code",
   "execution_count": 84,
   "metadata": {},
   "outputs": [
    {
     "data": {
      "text/plain": [
       "'Trump threatens to impose sweeping new tariffs on Mexico, Canada and China on first day in office'"
      ]
     },
     "execution_count": 84,
     "metadata": {},
     "output_type": "execute_result"
    }
   ],
   "source": [
    "article_title = article.title\n",
    "article_title"
   ]
  },
  {
   "cell_type": "code",
   "execution_count": 88,
   "metadata": {},
   "outputs": [],
   "source": [
    "if (article.publish_date):\n",
    "    print(\"true\")"
   ]
  },
  {
   "cell_type": "code",
   "execution_count": 31,
   "metadata": {},
   "outputs": [],
   "source": [
    "article.nlp()"
   ]
  },
  {
   "cell_type": "code",
   "execution_count": 32,
   "metadata": {},
   "outputs": [
    {
     "data": {
      "text/plain": [
       "['tariffs',\n",
       " 'china',\n",
       " 'goods',\n",
       " 'trade',\n",
       " 'mexico',\n",
       " 'trumps',\n",
       " 'massive',\n",
       " 'trump',\n",
       " 'taxes',\n",
       " 'vowing',\n",
       " 'proposed',\n",
       " 'day',\n",
       " 'united',\n",
       " 'states',\n",
       " 'tariff',\n",
       " 'ups']"
      ]
     },
     "execution_count": 32,
     "metadata": {},
     "output_type": "execute_result"
    }
   ],
   "source": [
    "article.keywords"
   ]
  },
  {
   "cell_type": "code",
   "execution_count": 38,
   "metadata": {},
   "outputs": [
    {
     "name": "stdout",
     "output_type": "stream",
     "text": [
      "What America importsThe United States’ top import from Canada is oil, which reached a record 4.3 million barrels per day in July, according to the US Energy Information Administration.\n",
      "The Trump tariffs also hit foreign steel, aluminum, washing machines and solar panels.\n",
      "It’s not clear how Trump would plan to implement the proposed tariffs without violating the USMCA.\n",
      "Most mainstream economists believe tariffs will be inflationary, and the Peterson Institute for International Economics has estimated Trump’s proposed tariffs (before the new tariffs announced Monday night) would cost the typical US household over $2,600 a year.\n",
      "He did just that when he was last in the White House, placing large tariffs on goods, primarily from China.\n"
     ]
    }
   ],
   "source": [
    "print(article.summary)"
   ]
  },
  {
   "cell_type": "code",
   "execution_count": 43,
   "metadata": {},
   "outputs": [
    {
     "name": "stdout",
     "output_type": "stream",
     "text": [
      "2024-11-25\n"
     ]
    }
   ],
   "source": [
    "print(str(article.publish_date.date()))"
   ]
  },
  {
   "cell_type": "code",
   "execution_count": 36,
   "metadata": {},
   "outputs": [
    {
     "data": {
      "text/plain": [
       "'https://www.cnn.com'"
      ]
     },
     "execution_count": 36,
     "metadata": {},
     "output_type": "execute_result"
    }
   ],
   "source": [
    "article.source_url"
   ]
  },
  {
   "cell_type": "markdown",
   "metadata": {},
   "source": [
    "# Serp API testing"
   ]
  },
  {
   "cell_type": "code",
   "execution_count": null,
   "metadata": {},
   "outputs": [],
   "source": [
    "params = {\n",
    "  \"engine\": \"google\",\n",
    "  \"q\": f\"related: {article_title}\",\n",
    "#   \"location\": \"Seattle-Tacoma, WA, Washington, United States\", don't need location\n",
    "  \"hl\": \"en\",\n",
    "  \"gl\": \"us\",\n",
    "  \"google_domain\": \"google.com\",\n",
    "  \"num\": \"10\",\n",
    "#   \"start\": \"10\",\n",
    "  \"safe\": \"active\",\n",
    "  \"api_key\": api_key,\n",
    "  \"device\": \"desktop\",\n",
    "}\n",
    "\n",
    "search = GoogleSearch(params)\n",
    "results = search.get_dict()\n",
    "organic_results = results[\"organic_results\"]"
   ]
  },
  {
   "cell_type": "code",
   "execution_count": 35,
   "metadata": {},
   "outputs": [
    {
     "data": {
      "text/plain": [
       "[{'position': 1,\n",
       "  'title': 'Trump tries to force other countries to negotiating table on ...',\n",
       "  'link': 'https://www.cnn.com/2024/11/26/politics/trump-tariffs-negotiating-tactic/index.html',\n",
       "  'redirect_link': 'https://www.google.com/url?sa=t&source=web&rct=j&opi=89978449&url=https://www.cnn.com/2024/11/26/politics/trump-tariffs-negotiating-tactic/index.html&ved=2ahUKEwi-p5yl2fuJAxVZCnkGHX9nCWkQFnoECCEQAQ',\n",
       "  'displayed_link': 'https://www.cnn.com › trump-tariffs-negotiating-tactic',\n",
       "  'favicon': 'https://serpapi.com/searches/6746a2fddc969fd66e6a5a8e/images/150bfd05a6e4024a7030ad89a1d96d3b989a4d1d3a6c04b3fc151fde8cfb2d91.png',\n",
       "  'date': '7 hours ago',\n",
       "  'snippet': \"President-elect Donald Trump's pledge to impose massive tariffs was an early warning shot to try to force the hand of allies and adversaries ...\",\n",
       "  'snippet_highlighted_words': [\"Trump's\", 'massive tariffs'],\n",
       "  'source': 'CNN'},\n",
       " {'position': 2,\n",
       "  'title': 'Trump threatens to impose sweeping new tariffs on Mexico ...',\n",
       "  'link': 'https://www.cbsnews.com/news/trump-tariffs-on-mexico-canada-and-china-on-first-day-in-office/',\n",
       "  'redirect_link': 'https://www.google.com/url?sa=t&source=web&rct=j&opi=89978449&url=https://www.cbsnews.com/news/trump-tariffs-on-mexico-canada-and-china-on-first-day-in-office/&ved=2ahUKEwi-p5yl2fuJAxVZCnkGHX9nCWkQFnoECCQQAQ',\n",
       "  'displayed_link': 'https://www.cbsnews.com › U.S.',\n",
       "  'favicon': 'https://serpapi.com/searches/6746a2fddc969fd66e6a5a8e/images/150bfd05a6e4024a7030ad89a1d96d3b130fd2de3485360c644453996502861c.png',\n",
       "  'date': '10 hours ago',\n",
       "  'snippet': 'President-elect Donald Trump threatened to impose new tariffs on Mexico, Canada and China as soon as he takes office as part of his efforts ...',\n",
       "  'snippet_highlighted_words': ['Trump',\n",
       "   'tariffs',\n",
       "   'Mexico',\n",
       "   'Canada and China'],\n",
       "  'source': 'CBS News'},\n",
       " {'position': 3,\n",
       "  'title': 'Trump vows new Canada, Mexico, China tariffs that ...',\n",
       "  'link': 'https://www.reuters.com/world/us/trump-promises-25-tariff-products-mexico-canada-2024-11-25/',\n",
       "  'redirect_link': 'https://www.google.com/url?sa=t&source=web&rct=j&opi=89978449&url=https://www.reuters.com/world/us/trump-promises-25-tariff-products-mexico-canada-2024-11-25/&ved=2ahUKEwi-p5yl2fuJAxVZCnkGHX9nCWkQFnoECCUQAQ',\n",
       "  'displayed_link': 'https://www.reuters.com › world › trump-promises-25-t...',\n",
       "  'favicon': 'https://serpapi.com/searches/6746a2fddc969fd66e6a5a8e/images/150bfd05a6e4024a7030ad89a1d96d3b224605659eb70e858f4d729ec72c93c8.png',\n",
       "  'date': '18 hours ago',\n",
       "  'snippet': \"For China: 'an additional 10% tariff, above any additional tariffs'; China: No one will win a trade war. Nov 25 (Reuters) - President-elect ...\",\n",
       "  'snippet_highlighted_words': ['China', 'tariff', 'tariffs', 'China', 'one'],\n",
       "  'source': 'Reuters'},\n",
       " {'position': 4,\n",
       "  'title': '5 things to know for Nov. 26: Thanksgiving storm, Trump ...',\n",
       "  'link': 'https://ktvz.com/news/national-world/cnn-national/2024/11/25/trump-ups-the-ante-on-tariffs-vowing-massive-taxes-on-goods-from-mexico-canada-and-china-on-day-1-2/',\n",
       "  'redirect_link': 'https://www.google.com/url?sa=t&source=web&rct=j&opi=89978449&url=https://ktvz.com/news/national-world/cnn-national/2024/11/25/trump-ups-the-ante-on-tariffs-vowing-massive-taxes-on-goods-from-mexico-canada-and-china-on-day-1-2/&ved=2ahUKEwi-p5yl2fuJAxVZCnkGHX9nCWkQFnoECDgQAQ',\n",
       "  'displayed_link': 'https://ktvz.com › news › cnn-national › 2024/11/25 › t...',\n",
       "  'favicon': 'https://serpapi.com/searches/6746a2fddc969fd66e6a5a8e/images/150bfd05a6e4024a7030ad89a1d96d3beea68cbfa07aac5f59ad0b6b71276ad0.png',\n",
       "  'date': '17 hours ago',\n",
       "  'snippet': '5 things to know for Nov. 26: Thanksgiving storm, Trump tariffs, Ceasefire deal, Microsoft outage, Raw milk recall. By CNN. follow ...',\n",
       "  'snippet_highlighted_words': ['Trump tariffs'],\n",
       "  'source': 'KTVZ'},\n",
       " {'position': 5,\n",
       "  'title': \"Trump's tariffs may be targeted at others\",\n",
       "  'link': 'https://www.npr.org/2024/11/26/nx-s1-5206441/trumps-tariffs-china-canada-mexico',\n",
       "  'redirect_link': 'https://www.google.com/url?sa=t&source=web&rct=j&opi=89978449&url=https://www.npr.org/2024/11/26/nx-s1-5206441/trumps-tariffs-china-canada-mexico&ved=2ahUKEwi-p5yl2fuJAxVZCnkGHX9nCWkQFnoECDQQAQ',\n",
       "  'displayed_link': 'https://www.npr.org › 2024/11/26 › nx-s1-5206441 › t...',\n",
       "  'favicon': 'https://serpapi.com/searches/6746a2fddc969fd66e6a5a8e/images/150bfd05a6e4024a7030ad89a1d96d3be9f9ccbebb337b10efd02218b5cb2cdf.png',\n",
       "  'date': '7 hours ago',\n",
       "  'snippet': 'President-elect Donald Trump threatened to slap hefty tariffs on China, Canada and Mexico. Those tariffs would hurt America too — if they ...',\n",
       "  'snippet_highlighted_words': ['Trump',\n",
       "   'tariffs',\n",
       "   'China',\n",
       "   'Canada',\n",
       "   'Mexico',\n",
       "   'tariffs'],\n",
       "  'source': 'NPR'},\n",
       " {'position': 6,\n",
       "  'title': 'Trump Vows Huge Tariffs On Mexico, Canada, China On ...',\n",
       "  'link': 'https://www.huffpost.com/entry/trump-tariffs-mexico-canada-china_n_67450d67e4b0afc0531344fb',\n",
       "  'redirect_link': 'https://www.google.com/url?sa=t&source=web&rct=j&opi=89978449&url=https://www.huffpost.com/entry/trump-tariffs-mexico-canada-china_n_67450d67e4b0afc0531344fb&ved=2ahUKEwi-p5yl2fuJAxVZCnkGHX9nCWkQFnoECCYQAQ',\n",
       "  'displayed_link': 'https://www.huffpost.com › entry › trump-tariffs-mexic...',\n",
       "  'favicon': 'https://serpapi.com/searches/6746a2fddc969fd66e6a5a8e/images/150bfd05a6e4024a7030ad89a1d96d3b1d53bd29d9b5c4bf12b2ec1b21628411.png',\n",
       "  'date': '1 day ago',\n",
       "  'snippet': 'The tariffs on goods from Mexico and Canada will apply to \"ALL products coming into the United States, and its ridiculous Open Borders,\" the ...',\n",
       "  'snippet_highlighted_words': ['tariffs',\n",
       "   'goods from Mexico',\n",
       "   'Canada',\n",
       "   'products'],\n",
       "  'source': 'HuffPost'},\n",
       " {'position': 7,\n",
       "  'title': 'Trump vows tariff hikes on goods from Mexico, Canada and ...',\n",
       "  'link': 'https://www.abc12.com/news/politics/trump-vows-tariff-hikes-on-goods-from-mexico-canada-and-china-on-day-1/article_ac01eeae-a8b9-5d6c-a7c0-f81e2dc45000.html',\n",
       "  'redirect_link': 'https://www.google.com/url?sa=t&source=web&rct=j&opi=89978449&url=https://www.abc12.com/news/politics/trump-vows-tariff-hikes-on-goods-from-mexico-canada-and-china-on-day-1/article_ac01eeae-a8b9-5d6c-a7c0-f81e2dc45000.html&ved=2ahUKEwi-p5yl2fuJAxVZCnkGHX9nCWkQFnoECCkQAQ',\n",
       "  'displayed_link': 'https://www.abc12.com › news › politics › trump-vows-t...',\n",
       "  'favicon': 'https://serpapi.com/searches/6746a2fddc969fd66e6a5a8e/images/150bfd05a6e4024a7030ad89a1d96d3b395b272b9998930af78ce1fb87a96c60.png',\n",
       "  'date': '1 day ago',\n",
       "  'snippet': 'President-elect Donald Trump on Monday promised massive hikes in tariffs on goods coming from Mexico, Canada and China starting on the first ...',\n",
       "  'snippet_highlighted_words': ['Trump',\n",
       "   'massive',\n",
       "   'tariffs',\n",
       "   'goods',\n",
       "   'Mexico',\n",
       "   'Canada and China'],\n",
       "  'missing': ['related:'],\n",
       "  'must_include': {'word': 'related:',\n",
       "   'link': 'https://www.google.com/search?safe=active&sca_esv=02370ae09f8a4c38&hl=en&gl=us&q=%22related:%22+Trump+ups+the+ante+on+tariffs,+vowing+massive+taxes+on+goods+from+Mexico,+Canada+and+China+on+Day+1&sa=X&ved=2ahUKEwi-p5yl2fuJAxVZCnkGHX9nCWkQ5t4CegQIKxAB'},\n",
       "  'source': 'WJRT ABC12'},\n",
       " {'position': 8,\n",
       "  'title': 'Trump vows 25% tariffs on Mexico and Canada ...',\n",
       "  'link': 'https://www.theguardian.com/us-news/2024/nov/25/trump-mexico-canada-tariffs-border',\n",
       "  'redirect_link': 'https://www.google.com/url?sa=t&source=web&rct=j&opi=89978449&url=https://www.theguardian.com/us-news/2024/nov/25/trump-mexico-canada-tariffs-border&ved=2ahUKEwi-p5yl2fuJAxVZCnkGHX9nCWkQFnoECCoQAQ',\n",
       "  'displayed_link': 'https://www.theguardian.com › us-news › nov › trump-...',\n",
       "  'favicon': 'https://serpapi.com/searches/6746a2fddc969fd66e6a5a8e/images/150bfd05a6e4024a7030ad89a1d96d3bf72c398d95b84eac15834d223b576fd2.png',\n",
       "  'date': '1 day ago',\n",
       "  'snippet': 'President-elect attacks neighbors over immigration and accuses China over fentanyl entering US.',\n",
       "  'snippet_highlighted_words': ['China'],\n",
       "  'source': 'The Guardian'}]"
      ]
     },
     "execution_count": 35,
     "metadata": {},
     "output_type": "execute_result"
    }
   ],
   "source": [
    "organic_results"
   ]
  },
  {
   "cell_type": "code",
   "execution_count": 54,
   "metadata": {},
   "outputs": [],
   "source": [
    "def relative_date_to_absolute(relative_date):\n",
    "    now = datetime.now()\n",
    "\n",
    "    if \"day\" in relative_date:\n",
    "        days = int(relative_date.split()[0])\n",
    "        return (now - timedelta(days=days)).strftime('%Y-%m-%d')\n",
    "    elif \"hour\" in relative_date:\n",
    "        hours = int(relative_date.split()[0])\n",
    "        return (now - timedelta(hours=hours)).strftime('%Y-%m-%d')\n",
    "    elif \"minute\" in relative_date:\n",
    "        minutes = int(relative_date.split()[0])\n",
    "        return (now - timedelta(minutes=minutes)).strftime('%Y-%m-%d')\n",
    "    else:\n",
    "        return datetime.strftime(relative_date, \"%Y-%m-%d\")"
   ]
  },
  {
   "cell_type": "code",
   "execution_count": 101,
   "metadata": {},
   "outputs": [],
   "source": [
    "def process_organic_results(results):\n",
    "    similar_article_info = []\n",
    "    irrelevant_texts = [\n",
    "            \"You have permission to edit this article.\\n\\nEdit Close\",\n",
    "            \"Some other irrelevant text\"\n",
    "        ]\n",
    "    for result in results:\n",
    "        article_dict = {}\n",
    "        try:\n",
    "            link = result['link']\n",
    "            article = Article(link, language='en')\n",
    "            article.download()\n",
    "            article.parse()\n",
    "            article.nlp()\n",
    "            article_dict['title'] = article.title \n",
    "            article_dict['authors'] = article.authors\n",
    "            if article.text in irrelevant_texts:\n",
    "                article_dict['summary'] = ''\n",
    "                article_dict['full_text'] = ''\n",
    "            else:\n",
    "                article_dict['summary'] = article.summary \n",
    "                article_dict['full_text'] = article.text\n",
    "                \n",
    "            if article.publish_date:\n",
    "                article_dict['publish_date'] = str(article.publish_date.date())\n",
    "            else:\n",
    "                article_dict['publish_date'] = relative_date_to_absolute(result.get('date'))\n",
    "            article_dict['source'] = result['source']\n",
    "            similar_article_info.append(article_dict)\n",
    "        except ArticleException:\n",
    "            article_dict['title'] = result['title']\n",
    "            article_dict['authors'] = None\n",
    "            article_dict['summary'] = result['snippet']\n",
    "            article_dict['full_text'] = None\n",
    "            if result.get('date'):\n",
    "                article_dict['publish_date'] = relative_date_to_absolute(result.get('date'))\n",
    "            else:\n",
    "                article_dict['publish_date'] = None\n",
    "            article_dict['source'] = result['source']\n",
    "            similar_article_info.append(article_dict)\n",
    "    return similar_article_info\n"
   ]
  },
  {
   "cell_type": "code",
   "execution_count": 102,
   "metadata": {},
   "outputs": [
    {
     "data": {
      "text/plain": [
       "[{'title': 'Trump threatens to impose sweeping new tariffs on Mexico, Canada and China on first day in office',\n",
       "  'authors': [],\n",
       "  'summary': 'President-elect Donald Trump is threatening to impose sweeping new tariffs on Mexico, Canada and China as soon as he takes office as part of his efforts to crack down on illegal immigration and drugs.\\nThe U.S. is the largest importer of goods in the world, with Mexico, China and Canada its top three suppliers, according to the most recent Census data.\\nTrump made the announcements on his Truth Social site Monday evening as he railed against an influx of illegal migrants.\\nTrump also turned his ire on China, saying he has \"had many talks with China about the massive amounts of drugs, in particular Fentanyl, being sent into the United States – But to no avail.\"\\nIf Trump were to move forward with the threatened tariffs, the new taxes would pose an enormous challenge for the economies of Canada and Mexico, in particular.',\n",
       "  'full_text': 'President-elect Donald Trump is threatening to impose sweeping new tariffs on Mexico, Canada and China as soon as he takes office as part of his efforts to crack down on illegal immigration and drugs.\\n\\n\"On January 20th, as one of my many first Executive Orders, I will sign all necessary documents to charge Mexico and Canada a 25% Tariff on ALL products coming into the United States, and its ridiculous Open Borders,\" he wrote on social media, complaining that \"thousands of people are pouring through Mexico and Canada, bringing Crime and Drugs at levels never seen before,\" even though violent crime is down from pandemic highs.\\n\\nHe said the new tariffs would remain in place \"until such time as Drugs, in particular Fentanyl, and all Illegal Aliens stop this Invasion of our Country! \"\\n\\nThe tariffs, if implemented, could dramatically raise prices on everything from gas to automobiles. The U.S. is the largest importer of goods in the world, with Mexico, China and Canada its top three suppliers, according to the most recent Census data.\\n\\nTrump made the announcements on his Truth Social site Monday evening as he railed against an influx of illegal migrants.\\n\\nCBS News also reported Monday that unlawful crossings at the U.S.-Mexico border are on track to drop to a new low for the Biden administration in November, according to internal Customs and Border Protection figures.\\n\\nU.S. Border Patrol is on pace to record fewer than 50,000 apprehensions of migrants crossing the southern border unlawfully this month.\\n\\nTrump also turned his ire on China, saying he has \"had many talks with China about the massive amounts of drugs, in particular Fentanyl, being sent into the United States – But to no avail.\"\\n\\n\"Until such time as they stop, we will be charging China an additional 10% Tariff, above any additional Tariffs, on all of their many products coming into the United States of America,\" he wrote.\\n\\nIt is unclear whether Trump will actually go through with the threats or if he is using them as a negotiating tactic before he takes office in the new year.\\n\\nMuch of America\\'s fentanyl is smuggled from Mexico. Border seizures of the drug rose sharply under President Joe Biden, and U.S. officials tallied about 21,900 pounds (12,247 kilograms) of fentanyl seized in the 2024 government budget year, compared with 2,545 pounds (1,154 kilograms) in 2019, when Trump was president.\\n\\nTrump\\'s nominee for treasury secretary, Scott Bessent, if confirmed, would be one of several officials responsible for imposing tariffs on other nations. He has on several occasions said tariffs are a means of negotiation with other countries.\\n\\nHe wrote in a Fox News op-ed last week, before his nomination, that tariffs are \"a useful tool for achieving the president\\'s foreign policy objectives. Whether it is getting allies to spend more on their own defense, opening foreign markets to U.S. exports, securing cooperation on ending illegal immigration and interdicting fentanyl trafficking, or deterring military aggression, tariffs can play a central role.\"\\n\\nIf Trump were to move forward with the threatened tariffs, the new taxes would pose an enormous challenge for the economies of Canada and Mexico, in particular.\\n\\nThey would also throw into doubt the reliability of the 2020 trade deal brokered in large part by Trump, which is up for review in 2026.',\n",
       "  'publish_date': '2024-11-26',\n",
       "  'source': 'CBS News'}]"
      ]
     },
     "execution_count": 102,
     "metadata": {},
     "output_type": "execute_result"
    }
   ],
   "source": [
    "similar_article_info = process_organic_results([organic_results[1]])\n",
    "similar_article_info"
   ]
  },
  {
   "cell_type": "code",
   "execution_count": null,
   "metadata": {},
   "outputs": [],
   "source": []
  }
 ],
 "metadata": {
  "kernelspec": {
   "display_name": "gemini",
   "language": "python",
   "name": "python3"
  },
  "language_info": {
   "codemirror_mode": {
    "name": "ipython",
    "version": 3
   },
   "file_extension": ".py",
   "mimetype": "text/x-python",
   "name": "python",
   "nbconvert_exporter": "python",
   "pygments_lexer": "ipython3",
   "version": "3.11.9"
  }
 },
 "nbformat": 4,
 "nbformat_minor": 2
}
