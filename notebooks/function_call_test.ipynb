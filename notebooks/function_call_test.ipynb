{
 "cells": [
  {
   "cell_type": "code",
   "execution_count": 1,
   "metadata": {},
   "outputs": [
    {
     "name": "stderr",
     "output_type": "stream",
     "text": [
      "[nltk_data] Downloading package vader_lexicon to\n",
      "[nltk_data]     C:\\Users\\User\\AppData\\Roaming\\nltk_data...\n",
      "[nltk_data]   Package vader_lexicon is already up-to-date!\n"
     ]
    }
   ],
   "source": [
    "import os \n",
    "import google.generativeai as genai\n",
    "from google.generativeai.types import HarmCategory, HarmBlockThreshold, content_types\n",
    "from collections.abc import Iterable\n",
    "from function_calls import final_factuality_factor_score, emotion_analyzer\n",
    "from google.protobuf.struct_pb2 import Struct\n"
   ]
  },
  {
   "cell_type": "code",
   "execution_count": 2,
   "metadata": {},
   "outputs": [],
   "source": [
    "api_key = os.getenv(\"API_KEY\")\n",
    "genai.configure(api_key=api_key)"
   ]
  },
  {
   "cell_type": "markdown",
   "metadata": {},
   "source": [
    "Documentation: https://github.com/google/generative-ai-docs/blob/main/site/en/gemini-api/docs/function-calling/python.ipynb, https://github.com/google-gemini/cookbook/blob/main/quickstarts/Function_calling.ipynb"
   ]
  },
  {
   "cell_type": "code",
   "execution_count": 4,
   "metadata": {},
   "outputs": [],
   "source": [
    "generation_config = {\n",
    "    \"max_output_tokens\": 4000, # less output, means faster\n",
    "    \"response_mime_type\": \"text/plain\",\n",
    "    \"temperature\": 1, # higher temp --> more risks the model takes with choices\n",
    "    \"top_p\": 0.95, # how many tokens are considered when producing outputs\n",
    "    \"top_k\": 40, # token is selected from 40 likely tokens\n",
    "}\n",
    "\n",
    "safety_settings = {\n",
    "  HarmCategory.HARM_CATEGORY_HATE_SPEECH: HarmBlockThreshold.BLOCK_NONE,\n",
    "  HarmCategory.HARM_CATEGORY_HARASSMENT: HarmBlockThreshold.BLOCK_NONE,\n",
    "  HarmCategory.HARM_CATEGORY_DANGEROUS_CONTENT: HarmBlockThreshold.BLOCK_NONE,\n",
    "  HarmCategory.HARM_CATEGORY_SEXUALLY_EXPLICIT: HarmBlockThreshold.BLOCK_NONE,\n",
    "}\n",
    "\n",
    "def tool_config_from_mode(mode: str, fns: Iterable[str] = ()):\n",
    "    \"\"\"Create a tool config with the specified function calling mode.\"\"\"\n",
    "    return content_types.to_tool_config(\n",
    "        {\"function_calling_config\": {\"mode\": mode, \"allowed_function_names\": fns}}\n",
    "    )\n",
    "\n",
    "functions = {\"final_factuality_factor_score\": final_factuality_factor_score,\n",
    "            \"emotion_analyzer\": emotion_analyzer,}\n",
    "\n",
    "model = genai.GenerativeModel(\n",
    "    model_name=\"gemini-1.5-pro-002\",\n",
    "    generation_config=generation_config,\n",
    "    safety_settings=safety_settings,\n",
    "    tools = functions.values(),\n",
    "    system_instruction=\"\"\"\n",
    "        You are trying to fight against misinformation by scoring different articles on their factuality factors. \n",
    "        In your responses:\n",
    "        - Use each function only once per request.\n",
    "        - Integrate the results from the function calls to generate a complete response.\n",
    "        - Do not assess an article until you are given a factuality factor to grade on.\n",
    "        - Be concise and avoid redundant function calls.    \n",
    "    \"\"\"\n",
    ")"
   ]
  },
  {
   "cell_type": "code",
   "execution_count": 5,
   "metadata": {},
   "outputs": [],
   "source": [
    "# chat = model.start_chat(enable_automatic_function_calling=True)"
   ]
  },
  {
   "cell_type": "code",
   "execution_count": 6,
   "metadata": {},
   "outputs": [],
   "source": [
    "# response = chat.send_message(\"\"\"\n",
    "# \"Shocking Discovery: Scientists Unveil a Secret That Will Change Humanity Forever!.\"\n",
    "# Given the previous sentence, rate the sentence based on the defined microfactors of the factuality factor, sensationalism, from 1 to 10, ensuring that you explain the reasoning behind each score, and feel free to use function calling:\n",
    "# 1. Sensationalism Detection: Identify instancesS of sensationalism in titles and main content.\n",
    "# 2. Emotion Analysis: Assess the writing style for excessive emotionality or exaggeration.\n",
    "# 3. Linguistic Database Comparison: Match linguistic features against databases of both trusted and untrusted sources to ascertain reliability.\n",
    "# Then, combine them into an overall score for sensationalism and explain your thought process.\n",
    "# Lastly, please phrase the overall score as 'Normal Prompting Overall sensationalism: {score}', where score is calculated via the final_factuality_factor_score function. Each function call should be used once.\n",
    "# \"\"\")\n",
    "# print(f\"Model response: {response.text}\")\n"
   ]
  },
  {
   "cell_type": "code",
   "execution_count": 7,
   "metadata": {},
   "outputs": [],
   "source": [
    "def call_function(function_call, functions):\n",
    "    function_name = function_call.name\n",
    "    function_args = function_call.args\n",
    "    return functions[function_name](**function_args)"
   ]
  },
  {
   "cell_type": "code",
   "execution_count": 8,
   "metadata": {},
   "outputs": [],
   "source": [
    "tool_config = tool_config_from_mode(\"auto\")\n",
    "    "
   ]
  },
  {
   "cell_type": "code",
   "execution_count": 9,
   "metadata": {},
   "outputs": [],
   "source": [
    "def fc_generate_content(input):\n",
    "    response = model.generate_content(input, tool_config=tool_config)\n",
    "    parts = response.candidates[0].content.parts\n",
    "    messages = []\n",
    "    messages.append({\"role\": \"user\", \"parts\": [input]})\n",
    "    for part in parts:\n",
    "        if part.function_call:\n",
    "            result = call_function(part.function_call, functions)\n",
    "            s = Struct()\n",
    "            s.update({\"result\": result})\n",
    "            function_response = genai.protos.Part(\n",
    "                function_response=genai.protos.FunctionResponse(name=part.function_call.name, response=s)\n",
    "            )\n",
    "            messages.append({\"role\": \"model\", \"parts\": [part]})\n",
    "            messages.append({\"role\": \"user\", \"parts\": [function_response]})\n",
    "        else:\n",
    "            messages.append({\"role\": \"model\", \"parts\": [part.text]})\n",
    "                # fmt: off\n",
    "            #     {\"role\": \"user\",\n",
    "            #     \"parts\": [\"'Shocking Discovery: Scientists Unveil a Secret That Will Change Humanity Forever!.'\\\n",
    "            # Given the previous sentence, rate the sentence based on the defined microfactors of the factuality factor, sensationalism, from 1 to 10, ensuring that you explain the reasoning behind each score, and feel free to use function calling:\\\n",
    "            # 1. Sensationalism Detection: Identify instancesS of sensationalism in titles and main content.\\\n",
    "            # 2. Emotion Analysis: Assess the writing style for excessive emotionality or exaggeration.\\\n",
    "            # 3. Linguistic Database Comparison: Match linguistic features against databases of both trusted and untrusted sources to ascertain reliability.\\\n",
    "            # Then, combine them into an overall score for sensationalism and explain your thought process.\\\n",
    "            # Lastly, please phrase the overall score as 'Normal Prompting Overall sensationalism: {score}', where score is calculated via the final_factuality_factor_score function. Each function call should be used once.\"]},\n",
    "            #     {\"role\": \"model\",\n",
    "            #     \"parts\": response.candidates[0].content.parts},\n",
    "            #     {\"role\": \"user\",\n",
    "            #     \"parts\": [function_response]},\n",
    "            #     # fmt: on\n",
    "    print(messages)\n",
    "    new_response = model.generate_content(messages)\n",
    "    return new_response"
   ]
  },
  {
   "cell_type": "code",
   "execution_count": 10,
   "metadata": {},
   "outputs": [
    {
     "name": "stdout",
     "output_type": "stream",
     "text": [
      "emotion_score: 5.17\n",
      "factuality_score: 8.0\n",
      "[{'role': 'user', 'parts': [\"'Shocking Discovery: Scientists Unveil a Secret That Will Change Humanity Forever!.'Given the previous sentence, rate the sentence based on the defined microfactors of the factuality factor, sensationalism, from 1 to 10, ensuring that you explain the reasoning behind each score, and feel free to use function calling:1. Sensationalism Detection: Identify instancesS of sensationalism in titles and main content.2. Emotion Analysis: Assess the writing style for excessive emotionality or exaggeration.3. Linguistic Database Comparison: Match linguistic features against databases of both trusted and untrusted sources to ascertain reliability.Then, combine them into an overall score for sensationalism and explain your thought process.Lastly, please phrase the overall score as 'Normal Prompting Overall sensationalism: {score}', where score is calculated via the final_factuality_factor_score function. Each function call should be used once.\"]}, {'role': 'model', 'parts': [function_call {\n",
      "  name: \"emotion_analyzer\"\n",
      "  args {\n",
      "    fields {\n",
      "      key: \"text\"\n",
      "      value {\n",
      "        string_value: \"Shocking Discovery: Scientists Unveil a Secret That Will Change Humanity Forever!.\"\n",
      "      }\n",
      "    }\n",
      "  }\n",
      "}\n",
      "]}, {'role': 'user', 'parts': [function_response {\n",
      "  name: \"emotion_analyzer\"\n",
      "  response {\n",
      "    fields {\n",
      "      key: \"result\"\n",
      "      value {\n",
      "        number_value: 5.17\n",
      "      }\n",
      "    }\n",
      "  }\n",
      "}\n",
      "]}, {'role': 'model', 'parts': [function_call {\n",
      "  name: \"final_factuality_factor_score\"\n",
      "  args {\n",
      "    fields {\n",
      "      key: \"microfactor_3\"\n",
      "      value {\n",
      "        number_value: 7\n",
      "      }\n",
      "    }\n",
      "    fields {\n",
      "      key: \"microfactor_2\"\n",
      "      value {\n",
      "        number_value: 8\n",
      "      }\n",
      "    }\n",
      "    fields {\n",
      "      key: \"microfactor_1\"\n",
      "      value {\n",
      "        number_value: 9\n",
      "      }\n",
      "    }\n",
      "  }\n",
      "}\n",
      "]}, {'role': 'user', 'parts': [function_response {\n",
      "  name: \"final_factuality_factor_score\"\n",
      "  response {\n",
      "    fields {\n",
      "      key: \"result\"\n",
      "      value {\n",
      "        number_value: 8\n",
      "      }\n",
      "    }\n",
      "  }\n",
      "}\n",
      "]}]\n"
     ]
    }
   ],
   "source": [
    "response = fc_generate_content(\"'Shocking Discovery: Scientists Unveil a Secret That Will Change Humanity Forever!.'\\\n",
    "Given the previous sentence, rate the sentence based on the defined microfactors of the factuality factor, sensationalism, from 1 to 10, ensuring that you explain the reasoning behind each score, and feel free to use function calling:\\\n",
    "1. Sensationalism Detection: Identify instancesS of sensationalism in titles and main content.\\\n",
    "2. Emotion Analysis: Assess the writing style for excessive emotionality or exaggeration.\\\n",
    "3. Linguistic Database Comparison: Match linguistic features against databases of both trusted and untrusted sources to ascertain reliability.\\\n",
    "Then, combine them into an overall score for sensationalism and explain your thought process.\\\n",
    "Lastly, please phrase the overall score as 'Normal Prompting Overall sensationalism: {score}', where score is calculated via the final_factuality_factor_score function. Each function call should be used once.\")\n",
    "# break down prompt and split into different intentions, intention: {}\n",
    "# distinguish between each chunk, each chunk has a header "
   ]
  },
  {
   "cell_type": "code",
   "execution_count": 13,
   "metadata": {},
   "outputs": [
    {
     "name": "stdout",
     "output_type": "stream",
     "text": [
      "Sensationalism Detection: 9/10. The phrase \"Shocking Discovery\" and \"Change Humanity Forever\" are clear indicators of sensationalism. These phrases aim to instantly grab attention and create a sense of urgency, but are often not backed by substantial evidence.\n",
      "Emotion Analysis: 8/10. The analyzer returned a score of 5.17, which is slightly above average, suggesting the presence of emotionality and exaggeration. Although it doesn't employ heavily loaded emotional language, the overall tone is still designed to evoke a strong emotional response.\n",
      "Linguistic Database Comparison: 7/10. Assuming this sentence was compared against a linguistic database, and it was found to have some similarities with less reliable sources, the score of 7 reflects a moderate level of concern regarding the language used.\n",
      "\n",
      "Normal Prompting Overall sensationalism: 8\n",
      "\n"
     ]
    }
   ],
   "source": [
    "print(response.text)"
   ]
  },
  {
   "cell_type": "code",
   "execution_count": null,
   "metadata": {},
   "outputs": [],
   "source": []
  }
 ],
 "metadata": {
  "kernelspec": {
   "display_name": "gemini",
   "language": "python",
   "name": "python3"
  },
  "language_info": {
   "codemirror_mode": {
    "name": "ipython",
    "version": 3
   },
   "file_extension": ".py",
   "mimetype": "text/x-python",
   "name": "python",
   "nbconvert_exporter": "python",
   "pygments_lexer": "ipython3",
   "version": "3.11.9"
  }
 },
 "nbformat": 4,
 "nbformat_minor": 2
}
