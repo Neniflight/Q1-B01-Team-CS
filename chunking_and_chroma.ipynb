{
  "cells": [
    {
      "cell_type": "markdown",
      "metadata": {
        "id": "bK4-l5hsiTIy"
      },
      "source": [
        "Get Chunking"
      ]
    },
    {
      "cell_type": "code",
      "execution_count": 3,
      "metadata": {
        "id": "jCdjrBphiBan"
      },
      "outputs": [],
      "source": [
        "import pandas as pd\n",
        "import numpy as np\n",
        "import requests\n",
        "from bs4 import BeautifulSoup\n",
        "import regex as re\n",
        "import pickle"
      ]
    },
    {
      "cell_type": "code",
      "execution_count": 4,
      "metadata": {
        "id": "PtF4bewCiL4U"
      },
      "outputs": [
        {
          "data": {
            "text/plain": [
              "['RENEE MONTAGNE, HOST: One of the first things Michelle Obama did as first lady, was to dig up part of the beautifully manicured South Lawn of the White House and plant a garden - a vegetable garden. Today, she\\'s out with a book, \"American Grown,\" a kind of diary of that garden through the seasons. We joined her on a hot day last week for a little tour',\n",
              " 'MICHELLE OBAMA: This is one of my favorite times for the garden, spring, because everything is bursting',\n",
              " 'MONTAGNE: Tomatoes and tarragon, figs and rhubarb - the stuff of state dinners and family lunches',\n",
              " \"OBAMA: We have our broccoli here. We eat lots of broccoli, lots of fresh greens and lettuces of all kinds. You know, to my older daughter's unhappiness, snap peas - her least favorite vegetable. And we have so much of it because everybody else loves it. Here, help yourself\",\n",
              " 'MONTAGNE: All right',\n",
              " 'OBAMA: Taste it',\n",
              " 'MONTAGNE: That is one of my favorite things, though',\n",
              " 'OBAMA: Very sweet, which is what I try to tell my daughter',\n",
              " \"MONTAGNE: Talk about sweet - over at a picnic table, there's a dish of warm White House honey\",\n",
              " \"OBAMA: We have some honey from our bees, and you have to taste it, Renee. This is most of the honey that I use in my tea, in my - this is one of my favorite snacks, the White House honey with some sliced green apples. Tastes like sunshine, doesn't it? And we also use it to make beer. We have a White House beer that is brewed with the honey. We usually pull that out Super Bowl time. So, we..\",\n",
              " \"MONTAGNE: And that's legal to make beer in the White House\",\n",
              " \"OBAMA: We just can't sell it\",\n",
              " 'MONTAGNE: When you were growing up in Chicago, did anybody in your family have a garden at all like this',\n",
              " \"OBAMA: My mother's mother, my maternal grandmother, used to tend a community garden and I really didn't know that until I started working on this book and we started talking to my mom about stories. And she was like oh yeah, this is how we got our vegetables, because my mom grew up on the Southside. They were a working class family, big family - six brothers and sisters - and they couldn't afford to go to the grocery store, so there was a victory garden and that's where they got their vegetables\",\n",
              " 'MONTAGNE: Now, their victory garden were, of course, those gardens during World War II, vegetable gardens that people were really encouraged to plant, all over America. And in fact, it was deemed a patriotic act to plant a vegetable garden and eat the food out of your own garden, more or less, right next to your own kitchen. And I gather that the last garden here at the White House was, in fact, a victory garden',\n",
              " 'OBAMA: Absolutely. It was planted by Eleanor Roosevelt, one of my heroines. She started the whole movement of victory gardens, which obviously played a role in our thinking about this garden, as well. We have a wonderful history, in this country, of community gardening, and somewhere along the way we lost that tradition. And part of what we hoped to see is that people start reconnecting to that part of our heritage',\n",
              " \"MONTAGNE: First ladies traditionally, have a mission, and I'm wondering for you why healthy living and combating childhood obesity was the thing that you were drawn to\",\n",
              " \"OBAMA: Well, as I share in the book, it's really a personal journey. I mean, before coming to the White House, I was a busy working mother, my husband was a U\",\n",
              " \"S. senator and was often not home. You know, we found ourselves eating out more than we should - the sugary drinks and, you know, doing the things that - the habits that you just fall into just trying to get through the day. And our pediatrician kind of pulled me aside and said you might want to look at your children's diet. And up until that point I thought I was good. I was doing, you know, I was pretty conscientious. We always worked out. But he was starting to see some trends that he didn't like and he was a doctor working primarily in the inner city. And he shared with me what he was seeing in his practice - the increase of type 2 diabetes among his young patients, a higher incidence of obesity. And that was the first time that I was hit with the challenges of modern-day living\",\n",
              " \"MONTAGNE: By now, the first lady is well known for her campaign, Let's Move, which is also about fitness, encouraging kids to get more exercise\",\n",
              " \"OBAMA: Kids aren't playing outside as much, the statistics show that kids are spending an average of 7.5 hours a day in front of some kind of screen - a TV, computer, what have you. Fewer schools are offering PE. Only two percent of high schools, public high schools, in the country offer PE classes - two percent. So, slowly, our habits have changed to the point where it's jeopardizing the health of our children. And what I suspected was that most people were like me - they weren't paying attention and they weren't trying to do the wrong thing. They just didn't know. So, the hope when I came in, was that we could start a conversation about kid's health\",\n",
              " \"MONTAGNE: Well, one of the things you've been campaigning for is getting more grocery stores into many poor or urban areas that have been dubbed food deserts. But a couple of recent studies just out in these last weeks, and one financed - with financing from the National Institutes of Health have cast some doubt on this idea of food desert. I mean, they found lots of fast food places, but also supermarkets and produce stands in numbers that people really were thinking weren't there, I mean, as many as you might find in a middle-class area, sometimes more, and no link to obesity\",\n",
              " \"OBAMA: The thing I thought about when I heard about that, is I'd love to take a couple of those researchers and drop them in several neighborhoods where I grew up, and say go get a head of lettuce, one that's affordable, you know, that's fresh - and see what happens. You know, people are living in areas - there are areas near my home in Chicago where you have to get on a bus or take a cab. You know, obviously, if you're in the city of Chicago, there are grocery stores in the city of Chicago. But if you're a mother with five small kids and you're on a fixed income, the notion that every other day you're going to get on a bus or take a cab to a supermarket that's maybe five miles away but you're carrying groceries and it's awkward and it's hard to do, that doesn't seem like the kind of accessibility that many more fortunate communities have\",\n",
              " \"MONTAGNE: So, you're saying both physically out of reach and-or too expensive or financially out of reach. It's not..\",\n",
              " \"OBAMA: It's a little bit of..\",\n",
              " 'MONTAGNE: ...to do with habits. Like the kids go into the store and there might be apples there but they buy a bag of potato chips',\n",
              " \"OBAMA: Well, you know, in many of the convenience stores there isn't fruit. But one thing we also say with this initiative with Let's Move is that there are many reasons why we're here. And food deserts, and information, and knowledge and exercise, all of those are a part of the solution\",\n",
              " 'MONTAGNE: Thank you very much for having us here',\n",
              " 'OBAMA: Thank you. Thanks for taking the time',\n",
              " 'MONTAGNE: We joined the first lady on the South Lawn of the White House in her vegetable garden',\n",
              " 'OBAMA: It is beautiful. I mean, here we are in the heart of Washington, D',\n",
              " \"C., we're looking at the Washington Monument, all that commotion out there, and that's the beauty of gardens. I mean, instantly you have an oasis\",\n",
              " 'MONTAGNE: Michelle Obama\\'s book, out today, is called \"American Grown.\" And, by the way, the White House garden and lawn are considered a National Park and author proceeds from this book will go to the National Park Foundation',\n",
              " 'MONTAGNE: This is NPR News']"
            ]
          },
          "execution_count": 4,
          "metadata": {},
          "output_type": "execute_result"
        }
      ],
      "source": [
        "with open('data/chunks.pkl', 'rb') as file:\n",
        "    article_list = pickle.load(file)\n",
        "article_list"
      ]
    },
    {
      "cell_type": "code",
      "execution_count": 5,
      "metadata": {
        "colab": {
          "base_uri": "https://localhost:8080/",
          "height": 53
        },
        "id": "ASnbAFtviNjU",
        "outputId": "00f96475-3f74-4565-87b4-f79f91fa7aa5"
      },
      "outputs": [
        {
          "data": {
            "text/plain": [
              "'RENEE MONTAGNE, HOST: One of the first things Michelle Obama did as first lady, was to dig up part of the beautifully manicured South Lawn of the White House and plant a garden - a vegetable garden. Today, she\\'s out with a book, \"American Grown,\" a kind of diary of that garden through the seasons. We joined her on a hot day last week for a little tour'"
            ]
          },
          "execution_count": 5,
          "metadata": {},
          "output_type": "execute_result"
        }
      ],
      "source": [
        "article_list[0]"
      ]
    },
    {
      "cell_type": "markdown",
      "metadata": {
        "id": "bzolgkY_iQPh"
      },
      "source": [
        "Chroma"
      ]
    },
    {
      "cell_type": "code",
      "execution_count": 14,
      "metadata": {
        "colab": {
          "base_uri": "https://localhost:8080/"
        },
        "id": "_zbBJ0kf5hfC",
        "outputId": "967472fc-284c-4e7b-87d5-7baa9874df0c"
      },
      "outputs": [
        {
          "name": "stdout",
          "output_type": "stream",
          "text": [
            "Requirement already satisfied: chromadb in c:\\users\\user\\anaconda3\\lib\\site-packages (0.5.15)\n",
            "Requirement already satisfied: build>=1.0.3 in c:\\users\\user\\anaconda3\\lib\\site-packages (from chromadb) (1.2.2.post1)\n",
            "Requirement already satisfied: pydantic>=1.9 in c:\\users\\user\\appdata\\roaming\\python\\python311\\site-packages (from chromadb) (2.5.0)\n",
            "Requirement already satisfied: chroma-hnswlib==0.7.6 in c:\\users\\user\\anaconda3\\lib\\site-packages (from chromadb) (0.7.6)\n",
            "Requirement already satisfied: fastapi>=0.95.2 in c:\\users\\user\\anaconda3\\lib\\site-packages (from chromadb) (0.115.2)\n",
            "Requirement already satisfied: uvicorn>=0.18.3 in c:\\users\\user\\anaconda3\\lib\\site-packages (from uvicorn[standard]>=0.18.3->chromadb) (0.32.0)\n",
            "Requirement already satisfied: numpy>=1.22.5 in c:\\users\\user\\appdata\\roaming\\python\\python311\\site-packages (from chromadb) (1.26.2)\n",
            "Requirement already satisfied: posthog>=2.4.0 in c:\\users\\user\\anaconda3\\lib\\site-packages (from chromadb) (3.7.0)\n",
            "Requirement already satisfied: typing-extensions>=4.5.0 in c:\\users\\user\\appdata\\roaming\\python\\python311\\site-packages (from chromadb) (4.8.0)\n",
            "Requirement already satisfied: onnxruntime>=1.14.1 in c:\\users\\user\\anaconda3\\lib\\site-packages (from chromadb) (1.19.2)\n",
            "Requirement already satisfied: opentelemetry-api>=1.2.0 in c:\\users\\user\\anaconda3\\lib\\site-packages (from chromadb) (1.27.0)\n",
            "Requirement already satisfied: opentelemetry-exporter-otlp-proto-grpc>=1.2.0 in c:\\users\\user\\anaconda3\\lib\\site-packages (from chromadb) (1.27.0)\n",
            "Requirement already satisfied: opentelemetry-instrumentation-fastapi>=0.41b0 in c:\\users\\user\\anaconda3\\lib\\site-packages (from chromadb) (0.48b0)\n",
            "Requirement already satisfied: opentelemetry-sdk>=1.2.0 in c:\\users\\user\\anaconda3\\lib\\site-packages (from chromadb) (1.27.0)\n",
            "Requirement already satisfied: tokenizers>=0.13.2 in c:\\users\\user\\anaconda3\\lib\\site-packages (from chromadb) (0.19.1)\n",
            "Requirement already satisfied: pypika>=0.48.9 in c:\\users\\user\\anaconda3\\lib\\site-packages (from chromadb) (0.48.9)\n",
            "Requirement already satisfied: tqdm>=4.65.0 in c:\\users\\user\\appdata\\roaming\\python\\python311\\site-packages (from chromadb) (4.66.1)\n",
            "Requirement already satisfied: overrides>=7.3.1 in c:\\users\\user\\appdata\\roaming\\python\\python311\\site-packages (from chromadb) (7.4.0)\n",
            "Requirement already satisfied: importlib-resources in c:\\users\\user\\anaconda3\\lib\\site-packages (from chromadb) (6.4.5)\n",
            "Requirement already satisfied: grpcio>=1.58.0 in c:\\users\\user\\anaconda3\\lib\\site-packages (from chromadb) (1.67.0)\n",
            "Requirement already satisfied: bcrypt>=4.0.1 in c:\\users\\user\\anaconda3\\lib\\site-packages (from chromadb) (4.2.0)\n",
            "Requirement already satisfied: typer>=0.9.0 in c:\\users\\user\\appdata\\roaming\\python\\python311\\site-packages (from chromadb) (0.9.0)\n",
            "Requirement already satisfied: kubernetes>=28.1.0 in c:\\users\\user\\anaconda3\\lib\\site-packages (from chromadb) (31.0.0)\n",
            "Requirement already satisfied: tenacity>=8.2.3 in c:\\users\\user\\anaconda3\\lib\\site-packages (from chromadb) (8.2.3)\n",
            "Requirement already satisfied: PyYAML>=6.0.0 in c:\\users\\user\\anaconda3\\lib\\site-packages (from chromadb) (6.0.2)\n",
            "Requirement already satisfied: mmh3>=4.0.1 in c:\\users\\user\\anaconda3\\lib\\site-packages (from chromadb) (5.0.1)\n",
            "Requirement already satisfied: orjson>=3.9.12 in c:\\users\\user\\anaconda3\\lib\\site-packages (from chromadb) (3.10.7)\n",
            "Requirement already satisfied: httpx>=0.27.0 in c:\\users\\user\\appdata\\roaming\\python\\python311\\site-packages (from chromadb) (0.27.0)\n",
            "Requirement already satisfied: rich>=10.11.0 in c:\\users\\user\\anaconda3\\lib\\site-packages (from chromadb) (13.7.1)\n",
            "Requirement already satisfied: packaging>=19.1 in c:\\users\\user\\appdata\\roaming\\python\\python311\\site-packages (from build>=1.0.3->chromadb) (23.2)\n",
            "Requirement already satisfied: pyproject_hooks in c:\\users\\user\\anaconda3\\lib\\site-packages (from build>=1.0.3->chromadb) (1.2.0)\n",
            "Requirement already satisfied: colorama in c:\\users\\user\\appdata\\roaming\\python\\python311\\site-packages (from build>=1.0.3->chromadb) (0.4.6)\n",
            "Requirement already satisfied: starlette<0.41.0,>=0.37.2 in c:\\users\\user\\anaconda3\\lib\\site-packages (from fastapi>=0.95.2->chromadb) (0.40.0)\n",
            "Requirement already satisfied: anyio in c:\\users\\user\\appdata\\roaming\\python\\python311\\site-packages (from httpx>=0.27.0->chromadb) (4.0.0)\n",
            "Requirement already satisfied: certifi in c:\\users\\user\\appdata\\roaming\\python\\python311\\site-packages (from httpx>=0.27.0->chromadb) (2023.7.22)\n",
            "Requirement already satisfied: httpcore==1.* in c:\\users\\user\\appdata\\roaming\\python\\python311\\site-packages (from httpx>=0.27.0->chromadb) (1.0.5)\n",
            "Requirement already satisfied: idna in c:\\users\\user\\appdata\\roaming\\python\\python311\\site-packages (from httpx>=0.27.0->chromadb) (3.4)\n",
            "Requirement already satisfied: sniffio in c:\\users\\user\\appdata\\roaming\\python\\python311\\site-packages (from httpx>=0.27.0->chromadb) (1.3.0)\n",
            "Requirement already satisfied: h11<0.15,>=0.13 in c:\\users\\user\\appdata\\roaming\\python\\python311\\site-packages (from httpcore==1.*->httpx>=0.27.0->chromadb) (0.14.0)\n",
            "Requirement already satisfied: six>=1.9.0 in c:\\users\\user\\appdata\\roaming\\python\\python311\\site-packages (from kubernetes>=28.1.0->chromadb) (1.16.0)\n",
            "Requirement already satisfied: python-dateutil>=2.5.3 in c:\\users\\user\\appdata\\roaming\\python\\python311\\site-packages (from kubernetes>=28.1.0->chromadb) (2.8.2)\n",
            "Requirement already satisfied: google-auth>=1.0.1 in c:\\users\\user\\anaconda3\\lib\\site-packages (from kubernetes>=28.1.0->chromadb) (2.26.1)\n",
            "Requirement already satisfied: websocket-client!=0.40.0,!=0.41.*,!=0.42.*,>=0.32.0 in c:\\users\\user\\appdata\\roaming\\python\\python311\\site-packages (from kubernetes>=28.1.0->chromadb) (1.6.4)\n",
            "Requirement already satisfied: requests in c:\\users\\user\\anaconda3\\lib\\site-packages (from kubernetes>=28.1.0->chromadb) (2.32.3)\n",
            "Requirement already satisfied: requests-oauthlib in c:\\users\\user\\anaconda3\\lib\\site-packages (from kubernetes>=28.1.0->chromadb) (1.3.1)\n",
            "Requirement already satisfied: oauthlib>=3.2.2 in c:\\users\\user\\anaconda3\\lib\\site-packages (from kubernetes>=28.1.0->chromadb) (3.2.2)\n",
            "Requirement already satisfied: urllib3>=1.24.2 in c:\\users\\user\\anaconda3\\lib\\site-packages (from kubernetes>=28.1.0->chromadb) (2.2.3)\n",
            "Requirement already satisfied: durationpy>=0.7 in c:\\users\\user\\anaconda3\\lib\\site-packages (from kubernetes>=28.1.0->chromadb) (0.9)\n",
            "Requirement already satisfied: coloredlogs in c:\\users\\user\\anaconda3\\lib\\site-packages (from onnxruntime>=1.14.1->chromadb) (15.0.1)\n",
            "Requirement already satisfied: flatbuffers in c:\\users\\user\\anaconda3\\lib\\site-packages (from onnxruntime>=1.14.1->chromadb) (24.3.25)\n",
            "Requirement already satisfied: protobuf in c:\\users\\user\\anaconda3\\lib\\site-packages (from onnxruntime>=1.14.1->chromadb) (4.25.5)\n",
            "Requirement already satisfied: sympy in c:\\users\\user\\anaconda3\\lib\\site-packages (from onnxruntime>=1.14.1->chromadb) (1.12.1)\n",
            "Requirement already satisfied: deprecated>=1.2.6 in c:\\users\\user\\anaconda3\\lib\\site-packages (from opentelemetry-api>=1.2.0->chromadb) (1.2.14)\n",
            "Requirement already satisfied: importlib-metadata<=8.4.0,>=6.0 in c:\\users\\user\\anaconda3\\lib\\site-packages (from opentelemetry-api>=1.2.0->chromadb) (7.0.1)\n",
            "Requirement already satisfied: googleapis-common-protos~=1.52 in c:\\users\\user\\anaconda3\\lib\\site-packages (from opentelemetry-exporter-otlp-proto-grpc>=1.2.0->chromadb) (1.65.0)\n",
            "Requirement already satisfied: opentelemetry-exporter-otlp-proto-common==1.27.0 in c:\\users\\user\\anaconda3\\lib\\site-packages (from opentelemetry-exporter-otlp-proto-grpc>=1.2.0->chromadb) (1.27.0)\n",
            "Requirement already satisfied: opentelemetry-proto==1.27.0 in c:\\users\\user\\anaconda3\\lib\\site-packages (from opentelemetry-exporter-otlp-proto-grpc>=1.2.0->chromadb) (1.27.0)\n",
            "Requirement already satisfied: opentelemetry-instrumentation-asgi==0.48b0 in c:\\users\\user\\anaconda3\\lib\\site-packages (from opentelemetry-instrumentation-fastapi>=0.41b0->chromadb) (0.48b0)\n",
            "Requirement already satisfied: opentelemetry-instrumentation==0.48b0 in c:\\users\\user\\anaconda3\\lib\\site-packages (from opentelemetry-instrumentation-fastapi>=0.41b0->chromadb) (0.48b0)\n",
            "Requirement already satisfied: opentelemetry-semantic-conventions==0.48b0 in c:\\users\\user\\anaconda3\\lib\\site-packages (from opentelemetry-instrumentation-fastapi>=0.41b0->chromadb) (0.48b0)\n",
            "Requirement already satisfied: opentelemetry-util-http==0.48b0 in c:\\users\\user\\anaconda3\\lib\\site-packages (from opentelemetry-instrumentation-fastapi>=0.41b0->chromadb) (0.48b0)\n",
            "Requirement already satisfied: setuptools>=16.0 in c:\\users\\user\\anaconda3\\lib\\site-packages (from opentelemetry-instrumentation==0.48b0->opentelemetry-instrumentation-fastapi>=0.41b0->chromadb) (68.0.0)\n",
            "Requirement already satisfied: wrapt<2.0.0,>=1.0.0 in c:\\users\\user\\anaconda3\\lib\\site-packages (from opentelemetry-instrumentation==0.48b0->opentelemetry-instrumentation-fastapi>=0.41b0->chromadb) (1.14.1)\n",
            "Requirement already satisfied: asgiref~=3.0 in c:\\users\\user\\anaconda3\\lib\\site-packages (from opentelemetry-instrumentation-asgi==0.48b0->opentelemetry-instrumentation-fastapi>=0.41b0->chromadb) (3.8.1)\n",
            "Requirement already satisfied: monotonic>=1.5 in c:\\users\\user\\anaconda3\\lib\\site-packages (from posthog>=2.4.0->chromadb) (1.6)\n",
            "Requirement already satisfied: backoff>=1.10.0 in c:\\users\\user\\anaconda3\\lib\\site-packages (from posthog>=2.4.0->chromadb) (2.2.1)\n",
            "Requirement already satisfied: annotated-types>=0.4.0 in c:\\users\\user\\appdata\\roaming\\python\\python311\\site-packages (from pydantic>=1.9->chromadb) (0.6.0)\n",
            "Requirement already satisfied: pydantic-core==2.14.1 in c:\\users\\user\\appdata\\roaming\\python\\python311\\site-packages (from pydantic>=1.9->chromadb) (2.14.1)\n",
            "Requirement already satisfied: markdown-it-py>=2.2.0 in c:\\users\\user\\anaconda3\\lib\\site-packages (from rich>=10.11.0->chromadb) (2.2.0)\n",
            "Requirement already satisfied: pygments<3.0.0,>=2.13.0 in c:\\users\\user\\appdata\\roaming\\python\\python311\\site-packages (from rich>=10.11.0->chromadb) (2.16.1)\n",
            "Requirement already satisfied: huggingface_hub<1.0,>=0.16.4 in c:\\users\\user\\anaconda3\\lib\\site-packages (from tokenizers>=0.13.2->chromadb) (0.24.6)\n",
            "Requirement already satisfied: click<9.0.0,>=7.1.1 in c:\\users\\user\\appdata\\roaming\\python\\python311\\site-packages (from typer>=0.9.0->chromadb) (8.1.7)\n",
            "Requirement already satisfied: httptools>=0.5.0 in c:\\users\\user\\anaconda3\\lib\\site-packages (from uvicorn[standard]>=0.18.3->chromadb) (0.6.4)\n",
            "Requirement already satisfied: python-dotenv>=0.13 in c:\\users\\user\\anaconda3\\lib\\site-packages (from uvicorn[standard]>=0.18.3->chromadb) (0.21.0)\n",
            "Requirement already satisfied: watchfiles>=0.13 in c:\\users\\user\\anaconda3\\lib\\site-packages (from uvicorn[standard]>=0.18.3->chromadb) (0.24.0)\n",
            "Requirement already satisfied: websockets>=10.4 in c:\\users\\user\\anaconda3\\lib\\site-packages (from uvicorn[standard]>=0.18.3->chromadb) (13.1)\n",
            "Requirement already satisfied: cachetools<6.0,>=2.0.0 in c:\\users\\user\\anaconda3\\lib\\site-packages (from google-auth>=1.0.1->kubernetes>=28.1.0->chromadb) (5.3.2)\n",
            "Requirement already satisfied: pyasn1-modules>=0.2.1 in c:\\users\\user\\anaconda3\\lib\\site-packages (from google-auth>=1.0.1->kubernetes>=28.1.0->chromadb) (0.2.8)\n",
            "Requirement already satisfied: rsa<5,>=3.1.4 in c:\\users\\user\\anaconda3\\lib\\site-packages (from google-auth>=1.0.1->kubernetes>=28.1.0->chromadb) (4.9)\n",
            "Requirement already satisfied: filelock in c:\\users\\user\\appdata\\roaming\\python\\python311\\site-packages (from huggingface_hub<1.0,>=0.16.4->tokenizers>=0.13.2->chromadb) (3.13.1)\n",
            "Requirement already satisfied: fsspec>=2023.5.0 in c:\\users\\user\\anaconda3\\lib\\site-packages (from huggingface_hub<1.0,>=0.16.4->tokenizers>=0.13.2->chromadb) (2024.3.1)\n",
            "Requirement already satisfied: zipp>=0.5 in c:\\users\\user\\anaconda3\\lib\\site-packages (from importlib-metadata<=8.4.0,>=6.0->opentelemetry-api>=1.2.0->chromadb) (3.20.2)\n",
            "Requirement already satisfied: mdurl~=0.1 in c:\\users\\user\\anaconda3\\lib\\site-packages (from markdown-it-py>=2.2.0->rich>=10.11.0->chromadb) (0.1.0)\n",
            "Requirement already satisfied: charset-normalizer<4,>=2 in c:\\users\\user\\anaconda3\\lib\\site-packages (from requests->kubernetes>=28.1.0->chromadb) (3.3.2)\n",
            "Requirement already satisfied: humanfriendly>=9.1 in c:\\users\\user\\anaconda3\\lib\\site-packages (from coloredlogs->onnxruntime>=1.14.1->chromadb) (10.0)\n",
            "Requirement already satisfied: mpmath<1.4.0,>=1.1.0 in c:\\users\\user\\anaconda3\\lib\\site-packages (from sympy->onnxruntime>=1.14.1->chromadb) (1.3.0)\n",
            "Requirement already satisfied: pyreadline3 in c:\\users\\user\\anaconda3\\lib\\site-packages (from humanfriendly>=9.1->coloredlogs->onnxruntime>=1.14.1->chromadb) (3.5.4)\n",
            "Requirement already satisfied: pyasn1<0.5.0,>=0.4.6 in c:\\users\\user\\anaconda3\\lib\\site-packages (from pyasn1-modules>=0.2.1->google-auth>=1.0.1->kubernetes>=28.1.0->chromadb) (0.4.8)\n",
            "Note: you may need to restart the kernel to use updated packages.\n"
          ]
        },
        {
          "name": "stderr",
          "output_type": "stream",
          "text": [
            "\n",
            "[notice] A new release of pip is available: 24.0 -> 24.2\n",
            "[notice] To update, run: python.exe -m pip install --upgrade pip\n"
          ]
        }
      ],
      "source": [
        "# Install\n",
        "%pip install chromadb"
      ]
    },
    {
      "cell_type": "code",
      "execution_count": 7,
      "metadata": {
        "id": "GtbLY2aO6pzq"
      },
      "outputs": [],
      "source": [
        "# Create A chroma Client\n",
        "import chromadb\n",
        "chroma_client = chromadb.Client()"
      ]
    },
    {
      "cell_type": "code",
      "execution_count": 8,
      "metadata": {
        "id": "-R9zduKv64zr"
      },
      "outputs": [],
      "source": [
        "# Create a collection\n",
        "collection = chroma_client.get_or_create_collection(name=\"my_collection\")"
      ]
    },
    {
      "cell_type": "code",
      "execution_count": 9,
      "metadata": {
        "id": "awJJC_D1j5PA"
      },
      "outputs": [],
      "source": [
        "# creating id for text doc in collection\n",
        "id = []\n",
        "for i in range(len(article_list)):\n",
        "  id.append(\"id\" + str(i))"
      ]
    },
    {
      "cell_type": "code",
      "execution_count": 10,
      "metadata": {
        "colab": {
          "base_uri": "https://localhost:8080/"
        },
        "id": "8iUOM6BC7ThW",
        "outputId": "cfdb33e0-843a-42f6-c5a3-98cb4199435d"
      },
      "outputs": [
        {
          "name": "stderr",
          "output_type": "stream",
          "text": [
            "C:\\Users\\User\\.cache\\chroma\\onnx_models\\all-MiniLM-L6-v2\\onnx.tar.gz: 100%|██████████| 79.3M/79.3M [00:22<00:00, 3.71MiB/s]\n"
          ]
        }
      ],
      "source": [
        "# Add text doc to collection\n",
        "collection.upsert(\n",
        "    documents = article_list,\n",
        "    ids = id\n",
        ")"
      ]
    },
    {
      "cell_type": "code",
      "execution_count": 11,
      "metadata": {
        "colab": {
          "base_uri": "https://localhost:8080/"
        },
        "id": "_4Q_nm4W7lpL",
        "outputId": "e92f98da-7fa8-4914-d92a-5baf3ded00fc"
      },
      "outputs": [
        {
          "name": "stdout",
          "output_type": "stream",
          "text": [
            "{'ids': [['id24', 'id33', 'id5', 'id11', 'id30']], 'embeddings': None, 'documents': [[\"OBAMA: It's a little bit of..\", 'MONTAGNE: This is NPR News', 'OBAMA: Taste it', \"OBAMA: We just can't sell it\", 'OBAMA: It is beautiful. I mean, here we are in the heart of Washington, D']], 'uris': None, 'data': None, 'metadatas': [[None, None, None, None, None]], 'distances': [[1.3331794738769531, 1.3858851194381714, 1.4557957649230957, 1.4622066020965576, 1.4712979793548584]], 'included': [<IncludeEnum.distances: 'distances'>, <IncludeEnum.documents: 'documents'>, <IncludeEnum.metadatas: 'metadatas'>]}\n"
          ]
        }
      ],
      "source": [
        "# query collection\n",
        "results = collection.query(\n",
        "    query_texts = [\"This article’s political stance is democratic.\"], # Chroma will embed this for you\n",
        "    n_results = 5 # how many results to return\n",
        ")\n",
        "print(results)"
      ]
    },
    {
      "cell_type": "code",
      "execution_count": 12,
      "metadata": {
        "colab": {
          "base_uri": "https://localhost:8080/"
        },
        "id": "mdNSi-bl95IC",
        "outputId": "622dfe20-70ba-4026-d9c8-4ef5cda08858"
      },
      "outputs": [
        {
          "name": "stdout",
          "output_type": "stream",
          "text": [
            "{'ids': [['id5', 'id33', 'id24', 'id7', 'id11']], 'embeddings': None, 'documents': [['OBAMA: Taste it', 'MONTAGNE: This is NPR News', \"OBAMA: It's a little bit of..\", 'OBAMA: Very sweet, which is what I try to tell my daughter', \"OBAMA: We just can't sell it\"]], 'uris': None, 'data': None, 'metadatas': [[None, None, None, None, None]], 'distances': [[1.445431113243103, 1.4627740383148193, 1.4928231239318848, 1.5337291955947876, 1.5343693494796753]], 'included': [<IncludeEnum.distances: 'distances'>, <IncludeEnum.documents: 'documents'>, <IncludeEnum.metadatas: 'metadatas'>]}\n"
          ]
        }
      ],
      "source": [
        "# query collection\n",
        "results = collection.query(\n",
        "    query_texts = [\"This article  is using sensational phrases or words\"], # Chroma will embed this for you\n",
        "    n_results = 5 # how many results to return\n",
        ")\n",
        "print(results)"
      ]
    },
    {
      "cell_type": "code",
      "execution_count": null,
      "metadata": {
        "id": "vS6OIuyNkQwk"
      },
      "outputs": [],
      "source": []
    }
  ],
  "metadata": {
    "colab": {
      "provenance": []
    },
    "kernelspec": {
      "display_name": "base",
      "language": "python",
      "name": "python3"
    },
    "language_info": {
      "codemirror_mode": {
        "name": "ipython",
        "version": 3
      },
      "file_extension": ".py",
      "mimetype": "text/x-python",
      "name": "python",
      "nbconvert_exporter": "python",
      "pygments_lexer": "ipython3",
      "version": "3.11.5"
    }
  },
  "nbformat": 4,
  "nbformat_minor": 0
}
