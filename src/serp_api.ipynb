{
 "cells": [
  {
   "cell_type": "code",
   "execution_count": null,
   "metadata": {},
   "outputs": [
    {
     "name": "stderr",
     "output_type": "stream",
     "text": [
      "[nltk_data] Downloading package punkt_tab to\n",
      "[nltk_data]     C:\\Users\\saman\\AppData\\Roaming\\nltk_data...\n",
      "[nltk_data]   Unzipping tokenizers\\punkt_tab.zip.\n"
     ]
    },
    {
     "data": {
      "text/plain": [
       "True"
      ]
     },
     "execution_count": 13,
     "metadata": {},
     "output_type": "execute_result"
    }
   ],
   "source": [
    "from serpapi import GoogleSearch\n",
    "from dotenv import load_dotenv\n",
    "import os\n",
    "from newspaper import Article\n",
    "from newspaper import ArticleException\n",
    "from datetime import datetime, timedelta\n",
    "import nltk\n",
    "# nltk.download('punkt_tab')"
   ]
  },
  {
   "cell_type": "code",
   "execution_count": 5,
   "metadata": {},
   "outputs": [],
   "source": [
    "load_dotenv()\n",
    "api_key = os.getenv(\"SERP_API_KEY\")"
   ]
  },
  {
   "cell_type": "markdown",
   "metadata": {},
   "source": [
    "# Testing news article extraction with Newspaper3k"
   ]
  },
  {
   "cell_type": "code",
   "execution_count": 6,
   "metadata": {},
   "outputs": [],
   "source": [
    "url = \"https://www.cbsnews.com/news/trump-tariffs-on-mexico-canada-and-china-on-first-day-in-office/\"\n",
    "article = Article(url)"
   ]
  },
  {
   "cell_type": "code",
   "execution_count": null,
   "metadata": {},
   "outputs": [],
   "source": [
    "article.download()\n",
    "article.parse()\n",
    "article.nlp()"
   ]
  },
  {
   "cell_type": "code",
   "execution_count": 9,
   "metadata": {},
   "outputs": [
    {
     "data": {
      "text/plain": [
       "'Trump threatens to impose sweeping new tariffs on Mexico, Canada and China on first day in office'"
      ]
     },
     "execution_count": 9,
     "metadata": {},
     "output_type": "execute_result"
    }
   ],
   "source": [
    "article_title = article.title\n",
    "article_title"
   ]
  },
  {
   "cell_type": "code",
   "execution_count": 10,
   "metadata": {},
   "outputs": [
    {
     "data": {
      "text/plain": [
       "['day',\n",
       " 'fentanyl',\n",
       " 'china',\n",
       " 'tariffs',\n",
       " 'office',\n",
       " 'impose',\n",
       " 'illegal',\n",
       " 'canada',\n",
       " 'trump',\n",
       " 'mexico',\n",
       " 'states',\n",
       " 'united',\n",
       " 'border',\n",
       " 'sweeping',\n",
       " 'threatens']"
      ]
     },
     "execution_count": 10,
     "metadata": {},
     "output_type": "execute_result"
    }
   ],
   "source": [
    "article.keywords"
   ]
  },
  {
   "cell_type": "code",
   "execution_count": 15,
   "metadata": {},
   "outputs": [
    {
     "name": "stdout",
     "output_type": "stream",
     "text": [
      "President-elect Donald Trump is threatening to impose sweeping new tariffs on Mexico, Canada and China as soon as he takes office as part of his efforts to crack down on illegal immigration and drugs.\n",
      "The U.S. is the largest importer of goods in the world, with Mexico, China and Canada its top three suppliers, according to the most recent Census data.\n",
      "Trump made the announcements on his Truth Social site Monday evening as he railed against an influx of illegal migrants.\n",
      "Trump also turned his ire on China, saying he has \"had many talks with China about the massive amounts of drugs, in particular Fentanyl, being sent into the United States – But to no avail.\"\n",
      "If Trump were to move forward with the threatened tariffs, the new taxes would pose an enormous challenge for the economies of Canada and Mexico, in particular.\n"
     ]
    }
   ],
   "source": [
    "print(article.summary)"
   ]
  },
  {
   "cell_type": "code",
   "execution_count": 16,
   "metadata": {},
   "outputs": [],
   "source": [
    "params = {\n",
    "  \"engine\": \"google\",\n",
    "  \"q\": f\"related: {article_title}\",\n",
    "#   \"location\": \"Seattle-Tacoma, WA, Washington, United States\", don't need location\n",
    "  \"hl\": \"en\",\n",
    "  \"gl\": \"us\",\n",
    "  \"google_domain\": \"google.com\",\n",
    "  \"num\": \"10\",\n",
    "#   \"start\": \"10\",\n",
    "  \"safe\": \"active\",\n",
    "  \"api_key\": api_key,\n",
    "  \"device\": \"desktop\",\n",
    "}\n",
    "\n",
    "search = GoogleSearch(params)\n",
    "results = search.get_dict()\n",
    "organic_results = results[\"organic_results\"]"
   ]
  },
  {
   "cell_type": "code",
   "execution_count": null,
   "metadata": {},
   "outputs": [],
   "source": [
    "organic_results"
   ]
  },
  {
   "cell_type": "code",
   "execution_count": null,
   "metadata": {},
   "outputs": [],
   "source": [
    "def relative_date_to_absolute(relative_date):\n",
    "    now = datetime.now()\n",
    "\n",
    "    if \"day\" in relative_date:\n",
    "        days = int(relative_date.split()[0])\n",
    "        return (now - timedelta(days=days)).strftime('%Y-%m-%d')\n",
    "    elif \"hour\" in relative_date:\n",
    "        hours = int(relative_date.split()[0])\n",
    "        return (now - timedelta(hours=hours)).strftime('%Y-%m-%d')\n",
    "    elif \"minute\" in relative_date:\n",
    "        minutes = int(relative_date.split()[0])\n",
    "        return (now - timedelta(minutes=minutes)).strftime('%Y-%m-%d')\n",
    "    else:\n",
    "        return datetime.strftime(relative_date, \"%Y-%m-%d\")"
   ]
  },
  {
   "cell_type": "code",
   "execution_count": null,
   "metadata": {},
   "outputs": [],
   "source": [
    "def process_organic_results(results):\n",
    "    similar_article_info = []\n",
    "    irrelevant_texts = [\n",
    "            \"You have permission to edit this article.\\n\\nEdit Close\",\n",
    "            \"Some other irrelevant text\"\n",
    "        ]\n",
    "    for result in results:\n",
    "        article_dict = {}\n",
    "        try:\n",
    "            link = result['link']\n",
    "            article = Article(link, language='en')\n",
    "            article.download()\n",
    "            article.parse()\n",
    "            article.nlp()\n",
    "            article_dict['title'] = article.title \n",
    "            article_dict['authors'] = article.authors\n",
    "            if article.text in irrelevant_texts:\n",
    "                article_dict['summary'] = ''\n",
    "                article_dict['full_text'] = ''\n",
    "            else:\n",
    "                article_dict['summary'] = article.summary \n",
    "                article_dict['full_text'] = article.text\n",
    "                \n",
    "            if article.publish_date:\n",
    "                article_dict['publish_date'] = str(article.publish_date.date())\n",
    "            else:\n",
    "                article_dict['publish_date'] = relative_date_to_absolute(result.get('date'))\n",
    "            article_dict['source'] = result['source']\n",
    "            similar_article_info.append(article_dict)\n",
    "        except ArticleException:\n",
    "            article_dict['title'] = result['title']\n",
    "            article_dict['authors'] = None\n",
    "            article_dict['summary'] = result['snippet']\n",
    "            article_dict['full_text'] = None\n",
    "            if result.get('date'):\n",
    "                article_dict['publish_date'] = relative_date_to_absolute(result.get('date'))\n",
    "            else:\n",
    "                article_dict['publish_date'] = None\n",
    "            article_dict['source'] = result['source']\n",
    "            similar_article_info.append(article_dict)\n",
    "    return similar_article_info\n"
   ]
  },
  {
   "cell_type": "code",
   "execution_count": null,
   "metadata": {},
   "outputs": [],
   "source": [
    "similar_article_info = process_organic_results(organic_results)\n",
    "similar_article_info"
   ]
  }
 ],
 "metadata": {
  "kernelspec": {
   "display_name": "gemini",
   "language": "python",
   "name": "python3"
  },
  "language_info": {
   "codemirror_mode": {
    "name": "ipython",
    "version": 3
   },
   "file_extension": ".py",
   "mimetype": "text/x-python",
   "name": "python",
   "nbconvert_exporter": "python",
   "pygments_lexer": "ipython3",
   "version": "3.11.9"
  }
 },
 "nbformat": 4,
 "nbformat_minor": 2
}
