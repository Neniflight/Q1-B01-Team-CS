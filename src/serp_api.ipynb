{
 "cells": [
  {
   "cell_type": "code",
   "execution_count": null,
   "metadata": {},
   "outputs": [
    {
     "name": "stderr",
     "output_type": "stream",
     "text": [
      "[nltk_data] Downloading package punkt_tab to\n",
      "[nltk_data]     C:\\Users\\saman\\AppData\\Roaming\\nltk_data...\n",
      "[nltk_data]   Unzipping tokenizers\\punkt_tab.zip.\n"
     ]
    },
    {
     "data": {
      "text/plain": [
       "True"
      ]
     },
     "execution_count": 13,
     "metadata": {},
     "output_type": "execute_result"
    }
   ],
   "source": [
    "from serpapi import GoogleSearch\n",
    "from dotenv import load_dotenv\n",
    "import os\n",
    "from newspaper import Article\n",
    "from newspaper import ArticleException\n",
    "from datetime import datetime, timedelta\n",
    "import nltk\n",
    "# nltk.download('punkt_tab')"
   ]
  },
  {
   "cell_type": "code",
   "execution_count": 5,
   "metadata": {},
   "outputs": [],
   "source": [
    "load_dotenv()\n",
    "api_key = os.getenv(\"SERP_API_KEY\")"
   ]
  },
  {
   "cell_type": "markdown",
   "metadata": {},
   "source": [
    "# Testing news article extraction with Newspaper3k"
   ]
  },
  {
   "cell_type": "code",
   "execution_count": 6,
   "metadata": {},
   "outputs": [],
   "source": [
    "url = \"https://www.cbsnews.com/news/trump-tariffs-on-mexico-canada-and-china-on-first-day-in-office/\"\n",
    "article = Article(url)"
   ]
  },
  {
   "cell_type": "code",
   "execution_count": null,
   "metadata": {},
   "outputs": [],
   "source": [
    "article.download()\n",
    "article.parse()\n",
    "article.nlp()"
   ]
  },
  {
   "cell_type": "code",
   "execution_count": 9,
   "metadata": {},
   "outputs": [
    {
     "data": {
      "text/plain": [
       "'Trump threatens to impose sweeping new tariffs on Mexico, Canada and China on first day in office'"
      ]
     },
     "execution_count": 9,
     "metadata": {},
     "output_type": "execute_result"
    }
   ],
   "source": [
    "article_title = article.title\n",
    "article_title"
   ]
  },
  {
   "cell_type": "code",
   "execution_count": 10,
   "metadata": {},
   "outputs": [
    {
     "data": {
      "text/plain": [
       "['day',\n",
       " 'fentanyl',\n",
       " 'china',\n",
       " 'tariffs',\n",
       " 'office',\n",
       " 'impose',\n",
       " 'illegal',\n",
       " 'canada',\n",
       " 'trump',\n",
       " 'mexico',\n",
       " 'states',\n",
       " 'united',\n",
       " 'border',\n",
       " 'sweeping',\n",
       " 'threatens']"
      ]
     },
     "execution_count": 10,
     "metadata": {},
     "output_type": "execute_result"
    }
   ],
   "source": [
    "article.keywords"
   ]
  },
  {
   "cell_type": "code",
   "execution_count": 15,
   "metadata": {},
   "outputs": [
    {
     "name": "stdout",
     "output_type": "stream",
     "text": [
      "President-elect Donald Trump is threatening to impose sweeping new tariffs on Mexico, Canada and China as soon as he takes office as part of his efforts to crack down on illegal immigration and drugs.\n",
      "The U.S. is the largest importer of goods in the world, with Mexico, China and Canada its top three suppliers, according to the most recent Census data.\n",
      "Trump made the announcements on his Truth Social site Monday evening as he railed against an influx of illegal migrants.\n",
      "Trump also turned his ire on China, saying he has \"had many talks with China about the massive amounts of drugs, in particular Fentanyl, being sent into the United States – But to no avail.\"\n",
      "If Trump were to move forward with the threatened tariffs, the new taxes would pose an enormous challenge for the economies of Canada and Mexico, in particular.\n"
     ]
    }
   ],
   "source": [
    "print(article.summary)"
   ]
  },
  {
   "cell_type": "code",
   "execution_count": 16,
   "metadata": {},
   "outputs": [],
   "source": [
    "params = {\n",
    "  \"engine\": \"google\",\n",
    "  \"q\": f\"related: {article_title}\",\n",
    "#   \"location\": \"Seattle-Tacoma, WA, Washington, United States\", don't need location\n",
    "  \"hl\": \"en\",\n",
    "  \"gl\": \"us\",\n",
    "  \"google_domain\": \"google.com\",\n",
    "  \"num\": \"10\",\n",
    "#   \"start\": \"10\",\n",
    "  \"safe\": \"active\",\n",
    "  \"api_key\": api_key,\n",
    "  \"device\": \"desktop\",\n",
    "}\n",
    "\n",
    "search = GoogleSearch(params)\n",
    "results = search.get_dict()\n",
    "organic_results = results[\"organic_results\"]"
   ]
  },
  {
   "cell_type": "code",
   "execution_count": 17,
   "metadata": {},
   "outputs": [
    {
     "data": {
      "text/plain": [
       "[{'position': 1,\n",
       "  'title': 'Trump threatens to impose sweeping new tariffs on Mexico ...',\n",
       "  'link': 'https://www.cbsnews.com/news/trump-tariffs-on-mexico-canada-and-china-on-first-day-in-office/',\n",
       "  'redirect_link': 'https://www.google.com/url?sa=t&source=web&rct=j&opi=89978449&url=https://www.cbsnews.com/news/trump-tariffs-on-mexico-canada-and-china-on-first-day-in-office/&ved=2ahUKEwjoyIqOlP2JAxX96ckDHUh3HP8QFnoECC4QAQ',\n",
       "  'displayed_link': 'https://www.cbsnews.com › U.S.',\n",
       "  'favicon': 'https://serpapi.com/searches/674766e3993688a7f0da330d/images/930dded951de406061ac6b15cfa0bf4aec734ceb73c2af8796531310f6c51a4e.png',\n",
       "  'date': '1 day ago',\n",
       "  'snippet': 'President-elect Donald Trump threatened to impose new tariffs on Mexico, Canada and China as soon as he takes office as part of his efforts ...',\n",
       "  'snippet_highlighted_words': ['Trump threatened to impose new tariffs on Mexico',\n",
       "   'Canada and China',\n",
       "   'office'],\n",
       "  'source': 'CBS News'},\n",
       " {'position': 2,\n",
       "  'title': 'Trump threatens to impose sweeping new tariffs on Mexico ...',\n",
       "  'link': 'https://abc7ny.com/15587569',\n",
       "  'redirect_link': 'https://www.google.com/url?sa=t&source=web&rct=j&opi=89978449&url=https://abc7ny.com/15587569&ved=2ahUKEwjoyIqOlP2JAxX96ckDHUh3HP8QFnoECCwQAQ',\n",
       "  'displayed_link': 'https://abc7ny.com › ...',\n",
       "  'favicon': 'https://serpapi.com/searches/674766e3993688a7f0da330d/images/930dded951de406061ac6b15cfa0bf4ab41002f13e582f1f581d36b65b613510.png',\n",
       "  'date': '1 day ago',\n",
       "  'snippet': 'President-elect Donald Trump is threatening to impose sweeping new tariffs on Mexico, Canada and China as soon as he takes office.',\n",
       "  'snippet_highlighted_words': ['Trump',\n",
       "   'impose sweeping new tariffs on Mexico',\n",
       "   'Canada and China',\n",
       "   'office'],\n",
       "  'source': 'ABC7 New York'},\n",
       " {'position': 3,\n",
       "  'title': 'Trump threatens to impose sweeping new tariffs on Mexico ...',\n",
       "  'link': 'https://www.yahoo.com/news/trump-threatens-impose-sweeping-tariffs-002701458.html',\n",
       "  'redirect_link': 'https://www.google.com/url?sa=t&source=web&rct=j&opi=89978449&url=https://www.yahoo.com/news/trump-threatens-impose-sweeping-tariffs-002701458.html&ved=2ahUKEwjoyIqOlP2JAxX96ckDHUh3HP8QFnoECDMQAQ',\n",
       "  'displayed_link': 'https://www.yahoo.com › news › trump-threatens-impo...',\n",
       "  'favicon': 'https://serpapi.com/searches/674766e3993688a7f0da330d/images/930dded951de406061ac6b15cfa0bf4a2045088c7a484beab68affcc6ec866b2.png',\n",
       "  'date': '1 day ago',\n",
       "  'snippet': 'President-elect Donald Trump threatened to impose sweeping new tariffs on Mexico, Canada and China as soon as he takes office as part of his ...',\n",
       "  'snippet_highlighted_words': ['Trump threatened to impose sweeping new tariffs on Mexico',\n",
       "   'Canada and China',\n",
       "   'office'],\n",
       "  'source': 'Yahoo'},\n",
       " {'position': 4,\n",
       "  'title': 'Trump threatens to impose tariffs on Mexico, Canada, China',\n",
       "  'link': 'https://ny1.com/nyc/all-boroughs/politics/2024/11/26/trump-tariffs-mexico-canada-china',\n",
       "  'redirect_link': 'https://www.google.com/url?sa=t&source=web&rct=j&opi=89978449&url=https://ny1.com/nyc/all-boroughs/politics/2024/11/26/trump-tariffs-mexico-canada-china&ved=2ahUKEwjoyIqOlP2JAxX96ckDHUh3HP8QFnoECDEQAQ',\n",
       "  'displayed_link': 'https://ny1.com › all-boroughs › politics › 2024/11/26',\n",
       "  'favicon': 'https://serpapi.com/searches/674766e3993688a7f0da330d/images/930dded951de406061ac6b15cfa0bf4a25ebe6ba2a9a2b50ea36be3d98edd652.png',\n",
       "  'date': '1 day ago',\n",
       "  'snippet': 'The tariffs, if implemented, could dramatically raise prices for American consumers on everything from gas to automobiles to agricultural ...',\n",
       "  'snippet_highlighted_words': ['tariffs'],\n",
       "  'source': 'Spectrum News NY1'},\n",
       " {'position': 5,\n",
       "  'title': 'Donald Trump threatens sweeping new tariffs on Mexico ...',\n",
       "  'link': 'https://news.sky.com/story/donald-trump-threatens-sweeping-new-tariffs-on-mexico-canada-and-china-on-first-day-in-office-13260800',\n",
       "  'redirect_link': 'https://www.google.com/url?sa=t&source=web&rct=j&opi=89978449&url=https://news.sky.com/story/donald-trump-threatens-sweeping-new-tariffs-on-mexico-canada-and-china-on-first-day-in-office-13260800&ved=2ahUKEwjoyIqOlP2JAxX96ckDHUh3HP8QFnoECC0QAQ',\n",
       "  'displayed_link': 'https://news.sky.com › story › donald-trump-threatens-s...',\n",
       "  'favicon': 'https://serpapi.com/searches/674766e3993688a7f0da330d/images/930dded951de406061ac6b15cfa0bf4aada9a65fd19fb497c67b7ebbeff9c1cf.png',\n",
       "  'date': '1 day ago',\n",
       "  'snippet': 'President-elect Donald Trump is set to take office on 20 January next year after beating Kamala Harris in the US election.',\n",
       "  'snippet_highlighted_words': ['Trump', 'office'],\n",
       "  'source': 'Sky News'},\n",
       " {'position': 6,\n",
       "  'title': 'Trump threatens to impose sweeping new tariffs on Mexico ...',\n",
       "  'link': 'https://www.opb.org/article/2024/11/25/trump-threatens-to-impose-sweeping-new-tariffs-on-mexico-canada-and-china-on-first-day-in-office/',\n",
       "  'redirect_link': 'https://www.google.com/url?sa=t&source=web&rct=j&opi=89978449&url=https://www.opb.org/article/2024/11/25/trump-threatens-to-impose-sweeping-new-tariffs-on-mexico-canada-and-china-on-first-day-in-office/&ved=2ahUKEwjoyIqOlP2JAxX96ckDHUh3HP8QFnoECDQQAQ',\n",
       "  'displayed_link': 'https://www.opb.org › article › 2024/11/25 › trump-thr...',\n",
       "  'favicon': 'https://serpapi.com/searches/674766e3993688a7f0da330d/images/930dded951de406061ac6b15cfa0bf4a6913d5ca7b67042035bf68d687288725.png',\n",
       "  'date': '2 days ago',\n",
       "  'snippet': 'The tariffs, if implemented, could dramatically raise prices on everything from gas to automobiles. The U.S. is the largest importer of goods in ...',\n",
       "  'snippet_highlighted_words': ['tariffs'],\n",
       "  'source': 'Oregon Public Broadcasting - OPB'},\n",
       " {'position': 7,\n",
       "  'title': 'Trump threatens to impose sweeping new tariffs on Mexico ...',\n",
       "  'link': 'https://www.latimes.com/world-nation/story/2024-11-25/trump-threatens-to-impose-sweeping-new-tariffs-on-mexico-canada-and-china-on-first-day-in-office',\n",
       "  'redirect_link': 'https://www.google.com/url?sa=t&source=web&rct=j&opi=89978449&url=https://www.latimes.com/world-nation/story/2024-11-25/trump-threatens-to-impose-sweeping-new-tariffs-on-mexico-canada-and-china-on-first-day-in-office&ved=2ahUKEwjoyIqOlP2JAxX96ckDHUh3HP8QFnoECDAQAQ',\n",
       "  'displayed_link': 'https://www.latimes.com › world-nation › story › trump...',\n",
       "  'favicon': 'https://serpapi.com/searches/674766e3993688a7f0da330d/images/930dded951de406061ac6b15cfa0bf4ab6943e80f76f4c9703bc123d5165f61c.png',\n",
       "  'date': '2 days ago',\n",
       "  'snippet': 'The tariffs pledged by President-elect Donald Trump, if implemented, could dramatically raise prices on everything including gas and ...',\n",
       "  'snippet_highlighted_words': ['tariffs', 'Trump'],\n",
       "  'source': 'Los Angeles Times'}]"
      ]
     },
     "execution_count": 17,
     "metadata": {},
     "output_type": "execute_result"
    }
   ],
   "source": [
    "organic_results"
   ]
  },
  {
   "cell_type": "code",
   "execution_count": 18,
   "metadata": {},
   "outputs": [],
   "source": [
    "def relative_date_to_absolute(relative_date):\n",
    "    now = datetime.now()\n",
    "\n",
    "    if \"day\" in relative_date:\n",
    "        days = int(relative_date.split()[0])\n",
    "        return (now - timedelta(days=days)).strftime('%Y-%m-%d')\n",
    "    elif \"hour\" in relative_date:\n",
    "        hours = int(relative_date.split()[0])\n",
    "        return (now - timedelta(hours=hours)).strftime('%Y-%m-%d')\n",
    "    elif \"minute\" in relative_date:\n",
    "        minutes = int(relative_date.split()[0])\n",
    "        return (now - timedelta(minutes=minutes)).strftime('%Y-%m-%d')\n",
    "    else:\n",
    "        return datetime.strftime(relative_date, \"%Y-%m-%d\")"
   ]
  },
  {
   "cell_type": "code",
   "execution_count": 19,
   "metadata": {},
   "outputs": [],
   "source": [
    "def process_organic_results(results):\n",
    "    similar_article_info = []\n",
    "    irrelevant_texts = [\n",
    "            \"You have permission to edit this article.\\n\\nEdit Close\",\n",
    "            \"Some other irrelevant text\"\n",
    "        ]\n",
    "    for result in results:\n",
    "        article_dict = {}\n",
    "        try:\n",
    "            link = result['link']\n",
    "            article = Article(link, language='en')\n",
    "            article.download()\n",
    "            article.parse()\n",
    "            article.nlp()\n",
    "            article_dict['title'] = article.title \n",
    "            article_dict['authors'] = article.authors\n",
    "            if article.text in irrelevant_texts:\n",
    "                article_dict['summary'] = ''\n",
    "                article_dict['full_text'] = ''\n",
    "            else:\n",
    "                article_dict['summary'] = article.summary \n",
    "                article_dict['full_text'] = article.text\n",
    "                \n",
    "            if article.publish_date:\n",
    "                article_dict['publish_date'] = str(article.publish_date.date())\n",
    "            else:\n",
    "                article_dict['publish_date'] = relative_date_to_absolute(result.get('date'))\n",
    "            article_dict['source'] = result['source']\n",
    "            similar_article_info.append(article_dict)\n",
    "        except ArticleException:\n",
    "            article_dict['title'] = result['title']\n",
    "            article_dict['authors'] = None\n",
    "            article_dict['summary'] = result['snippet']\n",
    "            article_dict['full_text'] = None\n",
    "            if result.get('date'):\n",
    "                article_dict['publish_date'] = relative_date_to_absolute(result.get('date'))\n",
    "            else:\n",
    "                article_dict['publish_date'] = None\n",
    "            article_dict['source'] = result['source']\n",
    "            similar_article_info.append(article_dict)\n",
    "    return similar_article_info\n"
   ]
  },
  {
   "cell_type": "code",
   "execution_count": 20,
   "metadata": {},
   "outputs": [
    {
     "data": {
      "text/plain": [
       "[{'title': 'Trump threatens to impose sweeping new tariffs on Mexico, Canada and China on first day in office',\n",
       "  'authors': [],\n",
       "  'summary': 'President-elect Donald Trump is threatening to impose sweeping new tariffs on Mexico, Canada and China as soon as he takes office as part of his efforts to crack down on illegal immigration and drugs.\\nThe U.S. is the largest importer of goods in the world, with Mexico, China and Canada its top three suppliers, according to the most recent Census data.\\nTrump made the announcements on his Truth Social site Monday evening as he railed against an influx of illegal migrants.\\nTrump also turned his ire on China, saying he has \"had many talks with China about the massive amounts of drugs, in particular Fentanyl, being sent into the United States – But to no avail.\"\\nIf Trump were to move forward with the threatened tariffs, the new taxes would pose an enormous challenge for the economies of Canada and Mexico, in particular.',\n",
       "  'full_text': 'President-elect Donald Trump is threatening to impose sweeping new tariffs on Mexico, Canada and China as soon as he takes office as part of his efforts to crack down on illegal immigration and drugs.\\n\\n\"On January 20th, as one of my many first Executive Orders, I will sign all necessary documents to charge Mexico and Canada a 25% Tariff on ALL products coming into the United States, and its ridiculous Open Borders,\" he wrote on social media, complaining that \"thousands of people are pouring through Mexico and Canada, bringing Crime and Drugs at levels never seen before,\" even though violent crime is down from pandemic highs.\\n\\nHe said the new tariffs would remain in place \"until such time as Drugs, in particular Fentanyl, and all Illegal Aliens stop this Invasion of our Country! \"\\n\\nThe tariffs, if implemented, could dramatically raise prices on everything from gas to automobiles. The U.S. is the largest importer of goods in the world, with Mexico, China and Canada its top three suppliers, according to the most recent Census data.\\n\\nTrump made the announcements on his Truth Social site Monday evening as he railed against an influx of illegal migrants.\\n\\nCBS News also reported Monday that unlawful crossings at the U.S.-Mexico border are on track to drop to a new low for the Biden administration in November, according to internal Customs and Border Protection figures.\\n\\nU.S. Border Patrol is on pace to record fewer than 50,000 apprehensions of migrants crossing the southern border unlawfully this month.\\n\\nTrump also turned his ire on China, saying he has \"had many talks with China about the massive amounts of drugs, in particular Fentanyl, being sent into the United States – But to no avail.\"\\n\\n\"Until such time as they stop, we will be charging China an additional 10% Tariff, above any additional Tariffs, on all of their many products coming into the United States of America,\" he wrote.\\n\\nIt is unclear whether Trump will actually go through with the threats or if he is using them as a negotiating tactic before he takes office in the new year.\\n\\nMuch of America\\'s fentanyl is smuggled from Mexico. Border seizures of the drug rose sharply under President Joe Biden, and U.S. officials tallied about 21,900 pounds (12,247 kilograms) of fentanyl seized in the 2024 government budget year, compared with 2,545 pounds (1,154 kilograms) in 2019, when Trump was president.\\n\\nTrump\\'s nominee for treasury secretary, Scott Bessent, if confirmed, would be one of several officials responsible for imposing tariffs on other nations. He has on several occasions said tariffs are a means of negotiation with other countries.\\n\\nHe wrote in a Fox News op-ed last week, before his nomination, that tariffs are \"a useful tool for achieving the president\\'s foreign policy objectives. Whether it is getting allies to spend more on their own defense, opening foreign markets to U.S. exports, securing cooperation on ending illegal immigration and interdicting fentanyl trafficking, or deterring military aggression, tariffs can play a central role.\"\\n\\nIf Trump were to move forward with the threatened tariffs, the new taxes would pose an enormous challenge for the economies of Canada and Mexico, in particular.\\n\\nThey would also throw into doubt the reliability of the 2020 trade deal brokered in large part by Trump, which is up for review in 2026.',\n",
       "  'publish_date': '2024-11-26',\n",
       "  'source': 'CBS News'},\n",
       " {'title': 'Trump threatens to impose sweeping new tariffs on Mexico, Canada and China on Day 1',\n",
       "  'authors': [],\n",
       "  'summary': 'Trump threatens to impose sweeping new tariffs on Mexico, Canada and China on Day 1Trump is threatening to impose sweeping new tariffs as soon as he takes office as part of his efforts to crack down on illegal immigration and drugs.\\nTrump is threatening to impose sweeping new tariffs as soon as he takes office as part of his efforts to crack down on illegal immigration and drugs.\\nTrump is threatening to impose sweeping new tariffs as soon as he takes office as part of his efforts to crack down on illegal immigration and drugs.\\nTrump is threatening to impose sweeping new tariffs as soon as he takes office as part of his efforts to crack down on illegal immigration and drugs.\\nThe day before the election, Trump told a rally in Pittsburgh, \"I\\'m putting tariffs on Mexico.',\n",
       "  'full_text': 'Trump threatens to impose sweeping new tariffs on Mexico, Canada and China on Day 1\\n\\nTrump is threatening to impose sweeping new tariffs as soon as he takes office as part of his efforts to crack down on illegal immigration and drugs.\\n\\nTrump is threatening to impose sweeping new tariffs as soon as he takes office as part of his efforts to crack down on illegal immigration and drugs.\\n\\nTrump is threatening to impose sweeping new tariffs as soon as he takes office as part of his efforts to crack down on illegal immigration and drugs.\\n\\nTrump is threatening to impose sweeping new tariffs as soon as he takes office as part of his efforts to crack down on illegal immigration and drugs.\\n\\nNEW YORK (AP) -- President-elect Donald Trump is making good on his tariff promises, saying Monday he plans to impose them on Mexico, Canada and China in an effort to stop the flow of drugs entering the country and illegal border crossings.\\n\\nTrump posted on his Truth Social platform that one of the first executive orders he will sign when he takes office on Jan. 20, 2025, will be to charge Mexico and Canada with a 25% tariff on all products coming into the United States.\\n\\n\"This Tariff will remain in effect until such time as Drugs, in particular Fentanyl, and all Illegal Aliens stop this Invasion of our Country! Both Mexico and Canada have the absolute right and power to easily solve this long simmering problem. We hereby demand that they use this power, and until such time that they do, it is time for them to pay a very big price.\" Trump posted.\\n\\nCanada\\'s deputy prime minister, Chrystia Freeland, and public safety minister, Dominic LeBlanc, released a joint statement on the proposed tariffs Monday, saying, \"Canada and the United States have one of the strongest and closest relationships - particularly when it comes to trade and border security. Canada places the highest priority on border security and the integrity of our shared border.\"\\n\\nThe officials noted that Canada buys more from the U.S than China, Japan, France and the U.K. combined.\\n\\n\"Canada is essential to US domestic energy supply, and last year 60 percent of US crude oil imports originated in Canada,\" Freeland and LeBlanc said in the statement on X.\\n\\nIn another post, Trump said that he will be charging China with an additional 10% tariff on top of any additional tariffs on products coming into the U.S., arguing the country wasn\\'t doing enough to stop the flow of illicit drugs.\\n\\n\"Representatives of China told me that they would institute their maximum penalty, that of death, for any drug dealers caught doing this but, unfortunately, they never followed through, and drugs are pouring into our Country, mostly through Mexico, at levels never seen before,\" Trump claimed.\\n\\nDuring the presidential campaign, Trump proposed tariffs of between 60% and 100% on Chinese goods, and a tax of between 10% and 20% on every product imported from all U.S. trading partners.\\n\\nThe day before the election, Trump told a rally in Pittsburgh, \"I\\'m putting tariffs on Mexico. Every damn thing that they sell into the United States has got to have like a 25% tariff until they stop drugs from coming in.\"\\n\\nEconomists widely forecast that tariffs of this magnitude would increase prices paid by U.S. shoppers, since importers typically pass along a share of the cost of those higher taxes to consumers.\\n\\nTrump\\'s tariffs would cost the average U.S. household about $2,600 per year, according to an estimate from the Peterson Institute for International Economics.\\n\\nRaymond Robertson, professor for trade, economics and public policy at Texas A &M University, told ABC News Trump\\'s plan will not be as effective because countries know what\\'s coming.\\n\\n\"This is more likely a play designed to put pressure on our closest trading partners,\" Robertson said. \"But this is the same playbook done the second time around. If you\\'re on the football field and you call the same play twice, it\\'s not going to be as effective the second time.\"\\n\\nRobertson added that countries know this would be \"disruptive\" and a \"disaster,\" but they\\'ve \"seen how this game works.\" Robertson says our trading partners could seek closer ties to Europe and other countries and rely less on the U.S., \"which means higher prices for us.\"\\n\\n-ABC News\\' Max Zahn and Selina Wang contributed to this report.',\n",
       "  'publish_date': '2024-11-26',\n",
       "  'source': 'ABC7 New York'},\n",
       " {'title': 'Trump threatens to impose sweeping new tariffs on Mexico, Canada and China on first day in office',\n",
       "  'authors': [],\n",
       "  'summary': 'NEW YORK (AP) — President-elect Donald Trump threatened to impose sweeping new tariffs on Mexico, Canada and China as soon as he takes office as part of his effort to crack down on illegal immigration and drugs.\\nThe U.S. is the largest importer of goods in the world, with Mexico, China and Canada its top three suppliers, according to the most recent U.S. Census data.\\n\"Both Mexico and Canada have the absolute right and power to easily solve this long simmering problem.\\nMore than 14,000 of those arrested on the Canadian border were Indian — more than 10 times the number two years ago.\\nWhen Trump imposed higher tariffs during his first term in office, other countries responded with retaliatory tariffs of their own.',\n",
       "  'full_text': 'NEW YORK (AP) — President-elect Donald Trump threatened to impose sweeping new tariffs on Mexico, Canada and China as soon as he takes office as part of his effort to crack down on illegal immigration and drugs. He said he would impose a 25% tax on all products entering the country from Canada and Mexico, and an additional 10% tariff on goods from China, as one of his first executive orders.\\n\\nThe tariffs, if implemented, could dramatically raise prices for American consumers on everything from gas to automobiles to agricultural products. The U.S. is the largest importer of goods in the world, with Mexico, China and Canada its top three suppliers, according to the most recent U.S. Census data.\\n\\nTrump made the threats Monday in a pair of posts on his Truth Social site in which he railed against an influx of migrants crossing into the U.S. illegally, even though southern border apprehensions have been hovering near four-year lows.\\n\\nAdvertisement Advertisement\\n\\nAdvertisement\\n\\n“On January 20th, as one of my many first Executive Orders, I will sign all necessary documents to charge Mexico and Canada a 25% Tariff on ALL products coming into the United States, and its ridiculous Open Borders,\" he wrote, complaining that \"thousands of people are pouring through Mexico and Canada, bringing Crime and Drugs at levels never seen before,” even though violent crime is down from pandemic highs.\\n\\nHe said the new tariffs would remain in place “until such time as Drugs, in particular Fentanyl, and all Illegal Aliens stop this Invasion of our Country!\"\\n\\n\"Both Mexico and Canada have the absolute right and power to easily solve this long simmering problem. We hereby demand that they use this power,\" he went on, “and until such time that they do, it is time for them to pay a very big price!”\\n\\nA senior Canadian government official said Prime Minister Justin Trudeau and Trump spoke after Trump’s posts. The two spoke about the border and trade and had a good conversation, the official said. The official was not authorized to speak publicly about the matter and spoke on condition of anonymity.\\n\\nAdvertisement Advertisement\\n\\nTrump also turned his ire on China, saying he has “had many talks with China about the massive amounts of drugs, in particular Fentanyl, being sent into the United States – But to no avail.”\\n\\n“Until such time as they stop, we will be charging China an additional 10% Tariff, above any additional Tariffs, on all of their many products coming into the United States of America,” he wrote.\\n\\nThe Chinese Embassy in Washington cautioned on Monday that there will be losers on all sides if there is a trade war.\\n\\n“China-US economic and trade cooperation is mutually beneficial in nature,” embassy spokesman Liu Pengyu posted on X. “No one will win a trade war or a #tariff war.” He added that China had taken steps in the last year to help stem drug trafficking.\\n\\nAdvertisement Advertisement\\n\\nIt is unclear whether Trump will actually go through with the threats or if he is using them as a negotiating tactic before he returns to the White House in the new year.\\n\\nTrump’s nominee for treasury secretary, Scott Bessent — who if confirmed, would be one of several officials responsible for imposing tariffs on other countries — has on several occasions said tariffs are a means of negotiation.\\n\\nHe wrote in a Fox News op-ed last week, before his nomination, that tariffs are “a useful tool for achieving the president’s foreign policy objectives. Whether it is getting allies to spend more on their own defense, opening foreign markets to U.S. exports, securing cooperation on ending illegal immigration and interdicting fentanyl trafficking, or deterring military aggression, tariffs can play a central role.”\\n\\nTrump won the election in large part due to voter frustration over inflation, but his threatened tariffs pose the risk of pushing prices even higher for food, autos and other goods. If inflationary pressures increase, the Federal Reserve might need to keep its benchmark interest rates higher.\\n\\nAdvertisement Advertisement\\n\\nTrump\\'s threats come as arrests for illegally crossing the border from Mexico have been falling. The most recent U.S. numbers for October show arrests remain near four-year lows, with U.S. Border Patrol making 56,530 arrests in October, less than one third of the tally from October last year.\\n\\nMeanwhile, arrests for illegally crossing the border from Canada have been rising over the past two years. The Border Patrol made 23,721 arrests between October 2023 and September 2024, compared with 10,021 the previous 12 months. More than 14,000 of those arrested on the Canadian border were Indian — more than 10 times the number two years ago.\\n\\nLast week, a jury convicted two men on charges related to human smuggling for their roles in an international operation that led to the deaths of a family of Indian migrants who froze while trying to cross the Canada-U.S. border during a 2022 blizzard.\\n\\nMuch of America’s fentanyl is smuggled from Mexico. Border seizures of the drug rose sharply under President Joe Biden, and U.S. officials tallied about 21,900 pounds (12,247 kilograms) of fentanyl seized in the 2024 government budget year, compared with 2,545 pounds (1,154 kilograms) in 2019, when Trump was president.\\n\\nAdvertisement Advertisement\\n\\nIf Trump were to move forward with the threatened tariffs, the new taxes would pose an enormous challenge for the economies of Canada and Mexico, in particular.\\n\\nThe Canadian dollar weakened sharply in foreign exchange markets immediately following Trump’s post.\\n\\nDuring Trump’s first term, his move to renegotiate the North American Free Trade Agreement, or NAFTA, and reports that he was considering a 25% tariff on the Canadian auto sector were considered an existential threat in Canada. Canada is one of the most trade-dependent countries in the world, and 75% of Canada’s exports go to the U.S.\\n\\nThe tariffs would also throw into doubt the reliability of the 2020 trade deal brokered in large part by Trump with Canada and Mexico, the USMCA, which replaced NAFTA and is up for review in 2026.\\n\\nAdvertisement Advertisement\\n\\nIt’s unclear from Trump’s social media post how he would legally apply tariff hikes on those two pivotal U.S. trade partners, but the 2020 deal allows for national security exceptions.\\n\\nTrump transition team officials did not immediately respond to questions about what authority he would use, what he would need to see to prevent the tariffs from being implemented and how they would impact prices in the U.S.\\n\\nWhen Trump imposed higher tariffs during his first term in office, other countries responded with retaliatory tariffs of their own. Canada, for instance, announced billions of new duties in 2018 against the U.S. in a tit-for-tat response to new taxes on Canadian steel and aluminum.\\n\\nMany of the U.S. products were chosen for their political rather than economic impact. For example, Canada imports just $3 million worth of yogurt from the U.S. annually and most of it comes from one plant in Wisconsin, the home state of then-Republican House Speaker Paul Ryan. That product was hit with a 10% duty.\\n\\nAdvertisement Advertisement\\n\\nThe Canadian government, in a joint statement from Deputy Prime Minister Chrystia Freeland and Public Safety Minister Dominic Leblanc, emphasized the close relationship between the two countries and said they will discuss the border and vast economic ties with the incoming administration.\\n\\n“Canada places the highest priority on border security and the integrity of our shared border. Our relationship today is balanced and mutually beneficial, particularly for American workers,” the statement read.\\n\\nFreeland, who chairs a special Cabinet committee on Canada-U.S. relations to address concerns about another Trump presidency, has said the president-elect\\'s promise to launch a mass deportation and concern that that could lead to an influx of migrants to Canada, is a top focus of the committee.\\n\\nA second senior Canadian official had said before Trump\\'s posts that Canadian officials were expecting him to issue executive orders on trade and the border as soon as he assumes office. The official was not authorized to speak publicly and spoke on condition of anonymity.\\n\\nAdvertisement Advertisement\\n\\nMexico’s Foreign Relations Department and Economy Department also had no immediate reaction to Trump’s statements. Normally such weighty issues are handled by the president at her morning press briefings.\\n\\nLast week, a senior Chinese commerce official said higher tariffs on Chinese exports would backfire by raising prices for consumers. Vice Commerce Minister Wang Shouwen also said China can manage the impact of such “external shocks.\"\\n\\n___ Gillies reported from Toronto. Associated Press writers Adriana Gomez Licon in Fort Lauderdale, Florida, Mark Stevenson in Mexico City, and Fatima Hussein, Josh Boak and Didi Tang in Washington contributed to this report.',\n",
       "  'publish_date': '2024-11-26',\n",
       "  'source': 'Yahoo'},\n",
       " {'title': 'Trump threatens to impose tariffs on Mexico, Canada, China',\n",
       "  'authors': ['Associated Press', 'Published Am Et Nov.'],\n",
       "  'summary': 'President-elect Donald Trump threatened to impose sweeping new tariffs on Mexico, Canada and China as soon as he takes office as part of his effort to crack down on illegal immigration and drugs.\\nHe said he would impose a 25% tax on all products entering the country from Canada and Mexico, and an additional 10% tariff on goods from China, as one of his first executive orders.\\nThe U.S. is the largest importer of goods in the world, with Mexico, China and Canada its top three suppliers, according to the most recent U.S. Census data.\\n\"Both Mexico and Canada have the absolute right and power to easily solve this long simmering problem.\\nTrump also turned his ire on China, saying he has \"had many talks with China about the massive amounts of drugs, in particular Fentanyl, being sent into the United States – But to no avail.\"',\n",
       "  'full_text': 'President-elect Donald Trump threatened to impose sweeping new tariffs on Mexico, Canada and China as soon as he takes office as part of his effort to crack down on illegal immigration and drugs. He said he would impose a 25% tax on all products entering the country from Canada and Mexico, and an additional 10% tariff on goods from China, as one of his first executive orders.\\n\\nWhat You Need To Know President-elect Donald Trump is threatening to impose sweeping new tariffs on Mexico, Canada and China as soon as he takes office as part of his efforts to crack down on illegal immigration and drugs\\n\\n\\n\\nHe said he would impose a 25% tax on all products entering the country from Canada and Mexico, and an additional 10% tariff on goods from China as one of his first executive orders\\n\\n\\n\\nThe tariffs, if implemented, could dramatically raise prices for American consumers on everything from gas to automobiles to agricultural products\\n\\n\\n\\nThe U.S. is the largest importer of goods in the world, with Mexico, China and Canada its top three suppliers\\n\\nThe tariffs, if implemented, could dramatically raise prices for American consumers on everything from gas to automobiles to agricultural products. The U.S. is the largest importer of goods in the world, with Mexico, China and Canada its top three suppliers, according to the most recent U.S. Census data.\\n\\nTrump made the threats Monday in a pair of posts on his Truth Social site in which he railed against an influx of illegal migrants, even though southern border apprehensions have been hovering near four-year lows.\\n\\n\"On January 20th, as one of my many first Executive Orders, I will sign all necessary documents to charge Mexico and Canada a 25% Tariff on ALL products coming into the United States, and its ridiculous Open Borders,\" he wrote, complaining that \"thousands of people are pouring through Mexico and Canada, bringing Crime and Drugs at levels never seen before,\" even though violent crime is down from pandemic highs.\\n\\nHe said the new tariffs would remain in place \"until such time as Drugs, in particular Fentanyl, and all Illegal Aliens stop this Invasion of our Country!\"\\n\\n\"Both Mexico and Canada have the absolute right and power to easily solve this long simmering problem. We hereby demand that they use this power,\" he went on, \"and until such time that they do, it is time for them to pay a very big price!\"\\n\\nA senior Canadian government official said Prime Minister Justin Trudeau and Trump spoke after Trump\\'s posts. The two spoke about the border and trade and had a good conversation, the official said. The official was not authorized to speak publicly about the matter and spoke on condition of anonymity.\\n\\nTrump also turned his ire on China, saying he has \"had many talks with China about the massive amounts of drugs, in particular Fentanyl, being sent into the United States – But to no avail.\"\\n\\n\"Until such time as they stop, we will be charging China an additional 10% Tariff, above any additional Tariffs, on all of their many products coming into the United States of America,\" he wrote.\\n\\nThe Chinese Embassy in Washington cautioned on Monday that there will be losers on all sides if there is a trade war.\\n\\n\"China-US economic and trade cooperation is mutually beneficial in nature,\" embassy spokesman Liu Pengyu posted on X. \"No one will win a trade war or a #tariff war.\" He added that China had taken steps in the last year to help stem drug trafficking.\\n\\nIt is unclear whether Trump will actually go through with the threats or if he is using them as a negotiating tactic before he returns to the White House in the new year.\\n\\nTrump\\'s nominee for treasury secretary, Scott Bessent — who if confirmed, would be one of several officials responsible for imposing tariffs on other countries — has on several occasions said tariffs are a means of negotiation.',\n",
       "  'publish_date': '2024-11-26',\n",
       "  'source': 'Spectrum News NY1'},\n",
       " {'title': 'Donald Trump threatens sweeping new tariffs on Mexico, Canada and China on first day in office',\n",
       "  'authors': ['Sky Uk Limited', 'Ed Conway', 'Economics', 'Data Editor'],\n",
       "  'summary': 'Donald Trump has threatened sweeping new tariffs on Mexico, Canada and China on his first day in office.\\nThe US is the largest importer of goods worldwide and Mexico, China and Canada are its top three suppliers according to the country\\'s census data.\\n\"In the case of China, he [Mr Trump] mentioned an additional 10% tariff on China.\\nIs this a negotiating tactic by Mr Trump to put the Chinese on notice?\"\\nIt is not clear if Mr Trump will actually go through with the threats.',\n",
       "  'full_text': 'Donald Trump has threatened sweeping new tariffs on Mexico, Canada and China on his first day in office.\\n\\nMr Trump, who becomes US president again on 20 January next year, said he would introduce a 25% tax on all products entering the country from Canada and Mexico.\\n\\nPosting on his Truth Social platform he also threatened an additional 10% tariff on goods from China on top of any he might impose as one of his first executive orders.\\n\\nWhat Trump\\'s tariffs could mean for UK, EU, China and the world\\n\\nIf implemented, the tariffs could raise prices for ordinary American consumers on everything from petrol to cars and agricultural products.\\n\\nThe US is the largest importer of goods worldwide and Mexico, China and Canada are its top three suppliers according to the country\\'s census data.\\n\\nMore than 83% of exports from Mexico went to the US in 2023 and 75% of Canadian exports go to the country.\\n\\n\"On January 20th, as one of my many first Executive Orders, I will sign all necessary documents to charge Mexico and Canada a 25% Tariff on ALL products coming into the United States, and its ridiculous Open Borders,\" the president-elect said.\\n\\nHe also spoke against an influx of illegal immigrants heading into the country.\\n\\nWhile migrant arrests reached a record high during President Joe Biden\\'s administration, illegal crossings fell dramatically this year as new border restrictions were introduced and Mexico stepped up enforcement.\\n\\nRead more from Sky News:\\n\\nTrump completes cabinet\\n\\nOne dead after plane crashes into house\\n\\nKayaker has leg amputated after \\'wedged\\' between rocks\\n\\nGet Sky News on WhatsApp Follow our channel and never miss an update Tap here to follow\\n\\nMr Trump added: \"Both Mexico and Canada have the absolute right and power to easily solve this long-simmering problem. We hereby demand that they use this power... and until such time that they do, it is time for them to pay a very big price!\"\\n\\nAfter issuing his tariff threat, Mr Trump spoke to Canadian Prime Minister Justin Trudeau and they were said to have discussed trade and border security.\\n\\n\"It was a good discussion and they will stay in touch,\" a Canadian source said.\\n\\nBe the first to get Breaking News Install the Sky News app for free\\n\\nTurning to China, the president-elect said he \"had many talks with China about the massive amounts of drugs, in particular Fentanyl, being sent into the United States - But to no avail\".\\n\\n\"Until such time as they stop, we will be charging China an additional 10% Tariff, above any additional Tariffs, on all of their many products coming into the United States of America,\" he wrote.\\n\\nThe Chinese Embassy in Washington said there would be losers on all sides if there is a trade war.\\n\\n\"China-US economic and trade cooperation is mutually beneficial in nature,\" embassy spokesman Liu Pengyu posted on X. \"No one will win a trade war or a tariff war.\"\\n\\nTrump says he \\'loves\\' tariffs - but economists are worried Ed Conway Economics and data editor @EdConwaySky Donald Trump talked during the campaign a lot about how he loves tariffs - he said it\\'s his favourite word. When he talked to economists, they, generally speaking, hate tariffs because that imposes an extra kind of friction on trade. But it does seem very likely that when he comes into the White House, he\\'s going to impose them. When you take a step back here, he does not like the fact that the US has a massive trade deficit - it imports far more stuff, physical stuff, than it exports. He feels that\\'s a failure. And China has this enormous trade surplus - China exports a lot more than it imports. So does Germany, and so does Europe as a whole. We in the UK have the same problem as America. It raises big questions about the nature of the global economy, about whether the manufacturing base in the US is healthy, whether it could be better. But I think a lot of people are very nervous about the potential economic impact of this because, and I think part of the nervousness is, they look back at the 1930s. That was the last time you had nations around the world raising tariffs, raising tariffs, raising taxes, all these barriers to trade. And that was to some extent the economic spiral that contributed towards the Second World War. So they look at that, and they say: \"We do not want to do that again\". And they hear Donald Trump say the word \"tariffs\" in an approving term, and they are horrified by it. But the reality is he\\'s speaking about a global economic system that isn\\'t particularly working well either. And so I think it\\'s an interesting intellectual moment, but it\\'s also quite unnerving. You\\'ve got this moment where you\\'ve got war in Europe, you\\'ve got nervousness about the energy transition. You\\'ve got tensions around the world between the US and China. And you can understand why when people hear those words, they can be a bit scared.\\n\\nSky\\'s Asia correspondent, Nicole Johnston, said Mr Trump\\'s threats would put the economic relationship between Washington and Beijing firmly on the agenda.\\n\\n\"In the case of China, he [Mr Trump] mentioned an additional 10% tariff on China. It\\'s very unclear at this stage what that means.\\n\\n\"Is he talking about a 10% tariff on top of the 60% tariff he was threatening in the lead-up to the election? Is this bluster? Is this a negotiating tactic by Mr Trump to put the Chinese on notice?\"\\n\\nShe added: \"This clearly shows in the lead-up to his inauguration and into next year, the issue of the economic relationship and trade between the US and China is certainly going to be on the agenda.\"\\n\\nIt is not clear if Mr Trump will actually go through with the threats.\\n\\nHe won the recent election in part due to voter frustration over inflation and high prices.\\n\\nMr Trump\\'s nominee for treasury secretary Scott Bessent - who if confirmed, would be one of a number of officials responsible for tariffs - has said previously that tariffs are a means of negotiation.',\n",
       "  'publish_date': '2024-11-26',\n",
       "  'source': 'Sky News'},\n",
       " {'title': 'Trump threatens to impose sweeping new tariffs on Mexico, Canada and China on first day in office',\n",
       "  'authors': [],\n",
       "  'summary': 'President-elect Donald Trump is threatening to impose sweeping new tariffs on Mexico, Canada and China as soon as he takes office as part of his efforts to crack down on illegal immigration and drugs.\\nThe U.S. is the largest importer of goods in the world, with Mexico, China and Canada its top three suppliers, according to the most recent Census data.\\nHe said the new tariffs would remain in place “until such time as Drugs, in particular Fentanyl, and all Illegal Aliens stop this Invasion of our Country!\\nArrests for illegally crossing the border from Mexico have been falling and remained around four-year lows in October, according to the most recent U.S. numbers.\\nTrump’s nominee for treasury secretary, Scott Bessent, if confirmed, would be one of several officials responsible for imposing tariffs on other nations.',\n",
       "  'full_text': 'President-elect Donald Trump is threatening to impose sweeping new tariffs on Mexico, Canada and China as soon as he takes office as part of his efforts to crack down on illegal immigration and drugs.\\n\\nThe tariffs, if implemented, could dramatically raise prices on everything from gas to automobiles. The U.S. is the largest importer of goods in the world, with Mexico, China and Canada its top three suppliers, according to the most recent Census data.\\n\\nTHANKS TO OUR SPONSOR: Become a Sponsor\\n\\nTrump made the threats in a pair of posts on his Truth Social site Monday evening in which he railed against an influx of illegal migrants, even though southern border crossings have been hovering at a four-year low.\\n\\n“On January 20th, as one of my many first Executive Orders, I will sign all necessary documents to charge Mexico and Canada a 25% Tariff on ALL products coming into the United States, and its ridiculous Open Borders,” he wrote, complaining that ”thousands of people are pouring through Mexico and Canada, bringing Crime and Drugs at levels never seen before,” even though violent crime is down from pandemic highs.\\n\\nHe said the new tariffs would remain in place “until such time as Drugs, in particular Fentanyl, and all Illegal Aliens stop this Invasion of our Country! ”\\n\\nTrump also turned his ire to China, saying he has “had many talks with China about the massive amounts of drugs, in particular Fentanyl, being sent into the United States – But to no avail.”\\n\\n“Until such time as they stop, we will be charging China an additional 10% Tariff, above any additional Tariffs, on all of their many products coming into the United States of America,” he wrote.\\n\\nIt is unclear whether Trump will actually go through with the threats or if he is using them as a negotiating tactic before he takes office in the new year.\\n\\nArrests for illegally crossing the border from Mexico have been falling and remained around four-year lows in October, according to the most recent U.S. numbers.\\n\\nTHANKS TO OUR SPONSOR: Become a Sponsor\\n\\nThe Border Patrol made 56,530 arrests in October, less than one third of the tally from last October.\\n\\nMuch of America’s fentanyl is smuggled from Mexico. Border seizures of the drug rose sharply under President Joe Biden, and U.S. officials tallied about 21,900 pounds (12,247 kilograms) of fentanyl seized in the 2024 government budget year, compared with 2,545 pounds (1,154 kilograms) in 2019, when Trump was president.\\n\\nTrump’s nominee for treasury secretary, Scott Bessent, if confirmed, would be one of several officials responsible for imposing tariffs on other nations. He has on several occasions said tariffs are a means of negotiation with other countries.\\n\\nHe wrote in a Fox News op-ed last week, before his nomination, that tariffs are “a useful tool for achieving the president’s foreign policy objectives. Whether it is getting allies to spend more on their own defense, opening foreign markets to U.S. exports, securing cooperation on ending illegal immigration and interdicting fentanyl trafficking, or deterring military aggression, tariffs can play a central role.”\\n\\nIf Trump were to move forward with the threatened tariffs, the new taxes would pose an enormous challenge for the economies of Canada and Mexico, in particular.\\n\\nThey would also throw into doubt the reliability of the 2020 trade deal brokered in large part by Trump, which is up for review in 2026.\\n\\nSpokespeople for Canada’s ambassador to Washington and its deputy prime minister, Chrystia Freeland, who chairs a special Cabinet committee on Canada-U.S. relations to address concerns about another Trump presidency, did not immediately provide comment.\\n\\nTrump’s promise to launch a mass deportation effort is a top focus for the Cabinet committee, Freeland has said.\\n\\nA senior Canadian official had said before Trump’s posts that Canadian officials are expecting Trump to issue executive orders on trade and the border as soon as he assumes office. The official was not authorized to speak publicly and spoke on condition of anonymity.\\n\\nMexico’s Foreign Relations Department and Economy Department also had no immediate reaction to Trump’s statements. Normally such weighty issues are handled by the president at her morning press briefings.\\n\\nAssociated Press writers Adriana Gomez Licon in Fort Lauderdale, Florida, Robert Gillies in Toronto, Mark Stevenson in Mexico City, Fatima Hussein and Josh Boak in Washington contributed to this report.',\n",
       "  'publish_date': '2024-11-25',\n",
       "  'source': 'Oregon Public Broadcasting - OPB'},\n",
       " {'title': 'Trump threatens to impose sweeping new tariffs on Mexico, Canada and China on first day in office',\n",
       "  'authors': [],\n",
       "  'summary': 'President-elect Donald Trump speaks at a meeting of the House GOP conference this month in Washington.\\nPresident-elect Donald Trump is threatening to impose sweeping new tariffs on Mexico, Canada and China as soon as he takes office as part of his efforts to crack down on illegal immigration and drugs.\\nThe tariffs, if implemented, could dramatically raise prices on everything from gas to automobiles.\\nThe U.S. is the largest importer of goods in the world, with Mexico, China and Canada its top three suppliers, according to the most recent Census data.\\nTrump’s nominee for Treasury secretary, Scott Bessent, if confirmed, would be one of several officials responsible for imposing tariffs on other nations.',\n",
       "  'full_text': 'President-elect Donald Trump speaks at a meeting of the House GOP conference this month in Washington.\\n\\nPresident-elect Donald Trump is threatening to impose sweeping new tariffs on Mexico, Canada and China as soon as he takes office as part of his efforts to crack down on illegal immigration and drugs.\\n\\nThe tariffs, if implemented, could dramatically raise prices on everything from gas to automobiles. The U.S. is the largest importer of goods in the world, with Mexico, China and Canada its top three suppliers, according to the most recent Census data.\\n\\nTrump made the threats in a pair of posts on his Truth Social site Monday evening in which he railed against an influx of illegal migrants, even though southern border crossings have been hovering at a four-year low.\\n\\nAdvertisement\\n\\n“On January 20th, as one of my many first Executive Orders, I will sign all necessary documents to charge Mexico and Canada a 25% Tariff on ALL products coming into the United States, and its ridiculous Open Borders,” he wrote, complaining that “thousands of people are pouring through Mexico and Canada, bringing Crime and Drugs at levels never seen before,” even though violent crime is down from pandemic highs.\\n\\nHe said the new tariffs would remain in place “until such time as Drugs, in particular Fentanyl, and all Illegal Aliens stop this Invasion of our Country! ”\\n\\nTrump also turned his ire to China, saying he has “had many talks with China about the massive amounts of drugs, in particular Fentanyl, being sent into the United States – But to no avail.”\\n\\nAdvertisement\\n\\n“Until such time as they stop, we will be charging China an additional 10% Tariff, above any additional Tariffs, on all of their many products coming into the United States of America,” he wrote.\\n\\nIt is unclear whether Trump will actually go through with the threats or if he is using them as a negotiating tactic before he takes office in the new year.\\n\\nArrests for illegally crossing the border from Mexico have been falling and remained around four-year lows in October, according to the most recent U.S. numbers\\n\\nAdvertisement\\n\\nThe Border Patrol made 56,530 arrests in October, less than one third of the tally from last October.\\n\\nMuch of America’s fentanyl is smuggled from Mexico. Border seizures of the drug rose sharply under President Biden, and U.S. officials tallied about 21,900 pounds of fentanyl seized in the 2024 government budget year, compared with 2,545 pounds in 2019, when Trump was president.\\n\\nTrump’s nominee for Treasury secretary, Scott Bessent, if confirmed, would be one of several officials responsible for imposing tariffs on other nations. He has on several occasions said tariffs are a means of negotiation with other countries.\\n\\nHe wrote in a Fox News op-ed last week, before his nomination, that tariffs are “a useful tool for achieving the president’s foreign policy objectives. Whether it is getting allies to spend more on their own defense, opening foreign markets to U.S. exports, securing cooperation on ending illegal immigration and interdicting fentanyl trafficking, or deterring military aggression, tariffs can play a central role.”\\n\\nIf Trump were to move forward with the threatened tariffs, the new taxes would pose an enormous challenge for the economies of Canada and Mexico, in particular.\\n\\nThey would also throw into doubt the reliability of the 2020 trade deal brokered in large part by Trump, which is up for review in 2026.\\n\\nAdvertisement\\n\\nSpokespersons for Canada’s ambassador to Washington and its deputy prime minister, Chrystia Freeland, who chairs a special Cabinet committee on Canada-U.S. relations to address concerns about another Trump presidency, did not immediately provide comment.\\n\\nTrump’s promise to launch a mass deportation effort is a top focus for the Cabinet committee, Freeland has said.\\n\\nA senior Canadian official had said before Trump’s posts that Canadian officials are expecting Trump to issue executive orders on trade and the border as soon as he assumes office. The official was not authorized to speak publicly and spoke on condition of anonymity.\\n\\nMexico’s Foreign Relations Department and Economy Department also had no immediate reaction to Trump’s statements. Normally such weighty issues are handled by the president at her morning press briefings.\\n\\nColvin writes for the Associated Press.',\n",
       "  'publish_date': '2024-11-25',\n",
       "  'source': 'Los Angeles Times'}]"
      ]
     },
     "execution_count": 20,
     "metadata": {},
     "output_type": "execute_result"
    }
   ],
   "source": [
    "similar_article_info = process_organic_results(organic_results)\n",
    "similar_article_info"
   ]
  },
  {
   "cell_type": "markdown",
   "metadata": {},
   "source": [
    "### Create new collection in chromadb (name: news_articles)"
   ]
  },
  {
   "cell_type": "code",
   "execution_count": null,
   "metadata": {},
   "outputs": [],
   "source": [
    "# imports\n",
    "import chromadb\n",
    "import pandas as pd"
   ]
  },
  {
   "cell_type": "code",
   "execution_count": null,
   "metadata": {},
   "outputs": [],
   "source": [
    "# chroma_client\n",
    "chroma_client = chromadb.HttpClient(host='localhost', port=8000)"
   ]
  },
  {
   "cell_type": "code",
   "execution_count": null,
   "metadata": {},
   "outputs": [
    {
     "data": {
      "text/html": [
       "<div>\n",
       "<style scoped>\n",
       "    .dataframe tbody tr th:only-of-type {\n",
       "        vertical-align: middle;\n",
       "    }\n",
       "\n",
       "    .dataframe tbody tr th {\n",
       "        vertical-align: top;\n",
       "    }\n",
       "\n",
       "    .dataframe thead th {\n",
       "        text-align: right;\n",
       "    }\n",
       "</style>\n",
       "<table border=\"1\" class=\"dataframe\">\n",
       "  <thead>\n",
       "    <tr style=\"text-align: right;\">\n",
       "      <th></th>\n",
       "      <th>title</th>\n",
       "      <th>authors</th>\n",
       "      <th>summary</th>\n",
       "      <th>full_text</th>\n",
       "      <th>publish_date</th>\n",
       "      <th>source</th>\n",
       "    </tr>\n",
       "  </thead>\n",
       "  <tbody>\n",
       "    <tr>\n",
       "      <th>0</th>\n",
       "      <td>Trump threatens to impose sweeping new tariffs...</td>\n",
       "      <td>[]</td>\n",
       "      <td>President-elect Donald Trump is threatening to...</td>\n",
       "      <td>President-elect Donald Trump is threatening to...</td>\n",
       "      <td>2024-11-26</td>\n",
       "      <td>CBS News</td>\n",
       "    </tr>\n",
       "  </tbody>\n",
       "</table>\n",
       "</div>"
      ],
      "text/plain": [
       "                                               title authors  \\\n",
       "0  Trump threatens to impose sweeping new tariffs...      []   \n",
       "\n",
       "                                             summary  \\\n",
       "0  President-elect Donald Trump is threatening to...   \n",
       "\n",
       "                                           full_text publish_date    source  \n",
       "0  President-elect Donald Trump is threatening to...   2024-11-26  CBS News  "
      ]
     },
     "execution_count": 24,
     "metadata": {},
     "output_type": "execute_result"
    }
   ],
   "source": [
    "# data preprocessing\n",
    "# doing this here for testing only, when we implement this is our app.py we will be rerunning the whole file with the url from users\n",
    "train_data = pd.DataFrame(data = similar_article_info)\n",
    "train_data.head(1)"
   ]
  },
  {
   "cell_type": "code",
   "execution_count": null,
   "metadata": {},
   "outputs": [],
   "source": [
    "# # Haven't run this yet, need to check with calvin with what to do for this.\n",
    "# # get chroma client\n",
    "# collection = chroma_client.get_or_create_collection(name=\"news_article\")"
   ]
  },
  {
   "cell_type": "code",
   "execution_count": null,
   "metadata": {},
   "outputs": [],
   "source": [
    "# # if else statement to prevent adding same doc to docker if distances == 0\n",
    "# all_title = train_data['title']\n",
    "# for i in range(train_data.shape[0]):\n",
    "#     dist = collection.query(query_texts=[all_title[i]], n_results=1)\n",
    "#     dist = dist[\"distances\"][0][0]\n",
    "#     if dist == 0:\n",
    "#         train_data = train_data.drop([i])"
   ]
  },
  {
   "cell_type": "code",
   "execution_count": null,
   "metadata": {},
   "outputs": [],
   "source": [
    "# # put non-repetitive data into documents, metadatas, ids lists.\n",
    "# documents = []\n",
    "# metadatas = []\n",
    "# ids = []\n",
    "# prev_df_size = collection.count()\n",
    "# prev_df_plus_serp_api_df_size = train_data.shape[0] + prev_df_size\n",
    "# for i in range(prev_df_size, prev_df_plus_serp_api_df_size):\n",
    "#     documents.append(train_data.loc[i - prev_df_size, 'title'])\n",
    "#     metadatas.append({\"authors\": train_data.loc[i - prev_df_size, 'authors'], \"summary\": train_data.loc[i - prev_df_size, \"summary\"], \"publish_date\": train_data.loc[i - prev_df_size, \"publish_date\"], \"source\": train_data.loc[i - prev_df_size, \"source\"], })\n",
    "#     ids.append(\"id\" + str(i))"
   ]
  },
  {
   "cell_type": "code",
   "execution_count": null,
   "metadata": {},
   "outputs": [],
   "source": [
    "# Haven't run this yet, need to check with Calvin to see how we want to use this\n",
    "# # add those data to collection\n",
    "# collection.add(documents = documents, \n",
    "#                metadatas=metadatas, \n",
    "#                ids=ids)"
   ]
  },
  {
   "cell_type": "code",
   "execution_count": null,
   "metadata": {},
   "outputs": [],
   "source": [
    "# # Test query to ensure it works! Returns top 3 closest statements from our data to the text imputted!\n",
    "# results = collection.query(query_texts=[\"Promise Kept: Planned Parenthood regained fede\"], \n",
    "#                  n_results=3,\n",
    "#                #   where=\n",
    "#                #   {\n",
    "#                #      \"label\": \"true\"\n",
    "#                #   })\n",
    "# )\n",
    "# print(results['documents'])\n",
    "# print(results[\"distances\"])"
   ]
  },
  {
   "cell_type": "markdown",
   "metadata": {},
   "source": [
    "### Adding Serp API searching result to normal and fcot prompting for Gemini to utilize this resource"
   ]
  },
  {
   "cell_type": "code",
   "execution_count": null,
   "metadata": {},
   "outputs": [],
   "source": [
    "def ask_normal_prompting_questions(event: me.ClickEvent):\n",
    "  \"\"\"loop through our normal prompted questions to ask gemini to give us a score of 1 to 10 \n",
    "    for the sensationalism and political stance\n",
    "    \n",
    "    Args:\n",
    "        event: this question is activated when the button associated with this function is clicked \n",
    "  \"\"\"\n",
    "  state = me.state(State)\n",
    "  for question in state.normal_prompting_question:\n",
    "    # editing the question that will be going into gemini\n",
    "    articles_from_serp_api = similar_article_info\n",
    "    text_to_add = \" Please also consider these articles' information in your analysis of the score.\" + similar_article_info\n",
    "    question = question + text_to_add\n",
    "    print(\"start asking normal prompting questions\")\n",
    "    print(f\"Question:{question}\")\n",
    "    response_generator = transform(question, state.chat_history)  \n",
    "    response = ''.join(response_generator)\n",
    "    print(f\"Response:{response}\")\n",
    "    time.sleep(5)"
   ]
  },
  {
   "cell_type": "code",
   "execution_count": null,
   "metadata": {},
   "outputs": [],
   "source": [
    "def ask_fcot_prompting_questions(event: me.ClickEvent):\n",
    "  \"\"\"loop through our fractal chain of thought prompted questions (3 iterations) to ask gemini to give us a score of 1 to 10 \n",
    "    for the sensationalism and political stance\n",
    "    \n",
    "    Args:\n",
    "        event: this question is activated when the button associated with this function is clicked \n",
    "  \"\"\"\n",
    "  state = me.state(State)\n",
    "  for question in state.fcot_prompting_question:\n",
    "    # editing the question that will be going into gemini\n",
    "    articles_from_serp_api = similar_article_info\n",
    "    text_to_add = \" With in each iteration please also consider these articles' information in your analysis of the score.\" + similar_article_info\n",
    "    question = question + text_to_add\n",
    "    print(\"start asking fcot prompting questions\")\n",
    "    print(f\"Question:{question}\")\n",
    "    response_generator = transform(question, state.chat_history)  \n",
    "    response = ''.join(response_generator)\n",
    "    print(f\"Response:{response}\")\n",
    "    time.sleep(5)"
   ]
  }
 ],
 "metadata": {
  "kernelspec": {
   "display_name": "gemini",
   "language": "python",
   "name": "python3"
  },
  "language_info": {
   "codemirror_mode": {
    "name": "ipython",
    "version": 3
   },
   "file_extension": ".py",
   "mimetype": "text/x-python",
   "name": "python",
   "nbconvert_exporter": "python",
   "pygments_lexer": "ipython3",
   "version": "3.11.9"
  }
 },
 "nbformat": 4,
 "nbformat_minor": 2
}
